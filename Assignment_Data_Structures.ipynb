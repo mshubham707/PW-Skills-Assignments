{
  "nbformat": 4,
  "nbformat_minor": 0,
  "metadata": {
    "colab": {
      "provenance": []
    },
    "kernelspec": {
      "name": "python3",
      "display_name": "Python 3"
    },
    "language_info": {
      "name": "python"
    }
  },
  "cells": [
    {
      "cell_type": "markdown",
      "source": [
        "**Data Type and Structure Questions**\n",
        "\n",
        "1.  What are data structures, and why are they important?\n",
        ">> Data structures are a way to organize and store data so that they can be accessed easily for data manipulation and interpretation. For example list, set, tuples, dictionary.\n",
        ">> They are important as they are very efficient in data storing and provide a structured way to handle it. Data stored can be accessed very easily for further modification.\n",
        "\n",
        "\n",
        "2.  Explain the difference between mutable and immutable data types with examples.\n",
        ">> Mutable data types are which can be modified or changed after creation. For example list, set, dictionary they all can updated after they have been made. Immutable data types such as tuples and strings can't be edited once they have been created.\n",
        "\n",
        "3.  What are the main differences between lists and tuples in Python?\n",
        ">> Main difference between list and tuple is that list is a mutable data type while tuple is an immutable data structure. You can edit or add a list after creation but you can't do that with a tuple.\n",
        "\n",
        "4.  Describe how dictionaries store data?\n",
        ">> Dictionaries store data in key value pairs instead of index. You can assign a key to every data that you enter and can access that data using the keys.\n",
        "          #dictionary example\n",
        "          dict={\"name\":\"Aman\", \"class\":11, \"city\":\"Delhi}\n",
        "\n",
        "\n",
        "5. Why might you use a set instead of a list in Python?\n",
        ">> A set is an unordered collection of data which is mutable like list but the adavantage it has over list is that it ignores duplicate data unlike a list. And if you want to compare it with other data sets you can use set operations which makes it handy and efficient.\n",
        "\n",
        "6. What is a string in Python, and how is it different from a list?\n",
        ">> A string is a sequence of characters defined inside two inverted or single commas. They help in storing text.They are immutable data types and can't be edited once crated. A list is a collection of items which can be anything a string, a number, a list or other data types. They are defined inside square brackets. List are mutable and can be edited after creation.\n",
        "\n",
        "\n",
        "7. How do tuples ensure data integrity in Python?\n",
        ">> Tuples are basically immutable lists. They can store any type of data but once created they can't be edited making the contents or data inside it safe thus ensuring data integrity.\n",
        "\n",
        "8. What is a hash table, and how does it relate to dictionaries in Python?\n",
        ">> A hash table is data structure that stores data in the form of key value pairs. The keys are unique and can be used to access data from the memory. Dictionaries use these hash tables to store their data in memory as when any key is created a hash function generates a unique value and stores the data in the memory related to that key. And when you want to acecss the data it returns the value back using the hash value.\n",
        "\n",
        "9. Can lists contain different data types in Python?\n",
        ">> Yes, lists can store any data types be it `list, tuple, strings, float, int or boolean` or even functions.\n",
        "\n",
        "10. Explain why strings are immutable in Python?\n",
        ">> Strings are immutable because they can't be changed after creation you have to create a new string to replace the older one. It makes them readily reusable for futher operations and prevents unintentional modification.\n",
        "\n",
        "11. What advantages do dictionaries offer over lists for certain tasks?\n",
        ">> Dictionaries are a great way to store real world data. Instead remembering the index it can store data using a name (key) and whenever needed can be accessed using the key making much efficient and handy in real world cases. For example you have a school register to maintain instead of giving each student a idex or number to store we use there name, roll number or classes to give each student a unique identification. And whenever needed just using the class, name, roll number we can access the data of the students. Thus the key itself give some meaning and helps in identification of data.\n",
        "\n",
        "12. Describe a scenario where using a tuple would be preferable over a list?\n",
        ">> A list is a open notebook which anybody can not just read but can easily change or alter it making it unsafe to store important data. Tuple being immutable keeps data safe and protected from accidental or wrongful alteration. For example for storing coordinates of a place we should use tuples as any change in those coordinates can compromise the data fully and will give wrong information when retrieved.\n",
        "\n",
        "13. How do sets handle duplicate values in Python?\n",
        ">> Sets don't store duplicate values. You can put as many duplicate in it but it will store and return only one unique value out of those duplicates.\n",
        "\n",
        "14. How does the “in” keyword work differently for lists and dictionaries?\n",
        ">> When `in` is used with lists it checks each element and return whether the item is in it ot not. While for dictionaries `in` keyword checks the keys only and returns whether the key is present or not.But you can use in to access values by searching values only.\n",
        "\n",
        "          \"Delhi\" in [\"Aman\", \"Delhi\", \"Mumbai\", \"Dehradun\"] #Output: True\n",
        "          \"Delhi\" in {\"name\":\"Aman\", \"city\":\"Delhi\"} #Output: False\n",
        "          \"Delhi\" in {\"name\":\"Aman\", \"city\":\"Delhi\"}.values() #Output: True\n",
        "\n",
        "15. Can you modify the elements of a tuple? Explain why or why not?\n",
        ">> No, we can't modify the elements of a tuple as tuple is an immutable data structure. It means once created the data inside the tuple can't be altered.\n",
        "\n",
        "16. What is a nested dictionary, and give an example of its use case?\n",
        ">> Nested dictionary means a dictionary inside a dictionary. The use cases are many one of them can be maintaining employee records in a firm. Below is the example:\n",
        "\n",
        "            employee_records={\"E101\":{\"name\":\"Rahul\",\"profile\":\"Senior Analyst\", \"department\":\"Finance\"},\"E102\":{\"name\":\"Sonal\",\"profile\":\"Analyst\", \"department\":\"HR\"}\n",
        "\n",
        "17. Describe the time complexity of accessing elements in a dictionary?\n",
        ">> Time taken during accessing the elements of dictionary is on average constant no matter how long the dictionary is due to its use of hash values to store the value and retrieve them. In rare scenarios due to poorly distributed hash values it might be slow.\n",
        "\n",
        "18. In what situations are lists preferred over dictionaries?\n",
        ">> When you don't have a complex data and need not identify a data using a key a list can be used. For example to make a list of integers 1 to 10 I can easily use a list there is no need of using a dicitonary here. Similary, I want to prepare a list of students in my class I can just write their names in the list instead of dictionary as I don't have to give any additional information regarding the data stored.\n",
        "\n",
        "19. Why are dictionaries considered unordered, and how does that affect data retrieval?\n",
        ">> Dictionaries are considered unordered because it doesn't store data using indexes. You can give a key to each data and readily access the data using that key, no need to remember the order in which the data is stored in the first place thus making the ordering irrelevant in the case of dictionary.\n",
        "\n",
        "20. Explain the difference between a list and a dictionary in terms of data retrieval.\n",
        ">> List is an ordered collection of items so whatever you entered has an index associated with it and whenever needed you can retieve that data using the index associated to it. To retrive the data you should remember the index of the data making it cumbersome and lead to delay in retrieval. While dictionary uses meaningful key-value pairs to store and organize data which makes it readable and fast for data retrieval.\n",
        "\n"
      ],
      "metadata": {
        "id": "cRk9zu1yg4J5"
      }
    },
    {
      "cell_type": "code",
      "execution_count": null,
      "metadata": {
        "colab": {
          "base_uri": "https://localhost:8080/"
        },
        "id": "0O2BpJtkQUUT",
        "outputId": "1e4ca171-22b3-4772-b3c8-e339a18bc2ae"
      },
      "outputs": [
        {
          "output_type": "stream",
          "name": "stdout",
          "text": [
            "Shubham Mehta\n"
          ]
        }
      ],
      "source": [
        "#1. Write a code to create a string with your name and print it.\n",
        "\n",
        "name=\"Shubham Mehta\"\n",
        "print(name)"
      ]
    },
    {
      "cell_type": "code",
      "source": [
        "#2. Write a code to find the length of the string \"Hello World\".\n",
        "\n",
        "len(\"Hello World\")"
      ],
      "metadata": {
        "colab": {
          "base_uri": "https://localhost:8080/"
        },
        "id": "TT9m6ab0QjLy",
        "outputId": "c6e4f847-011d-4190-e1ca-47837ed107d0"
      },
      "execution_count": null,
      "outputs": [
        {
          "output_type": "execute_result",
          "data": {
            "text/plain": [
              "11"
            ]
          },
          "metadata": {},
          "execution_count": 4
        }
      ]
    },
    {
      "cell_type": "code",
      "source": [
        "#3.  Write a code to slice the first 3 characters from the string \"Python Programming\".\n",
        "\n",
        "strg=\"Python Programming\"\n",
        "print(strg[:3])"
      ],
      "metadata": {
        "colab": {
          "base_uri": "https://localhost:8080/"
        },
        "id": "ob1KMZiNQt7x",
        "outputId": "8ee5b10c-e6b2-44a7-9667-e6f8b9789e78"
      },
      "execution_count": null,
      "outputs": [
        {
          "output_type": "stream",
          "name": "stdout",
          "text": [
            "Pyt\n"
          ]
        }
      ]
    },
    {
      "cell_type": "code",
      "source": [
        "#4. Write a code to convert the string \"hello\" to uppercase.\n",
        "\n",
        "h=\"hello\"\n",
        "h.upper()"
      ],
      "metadata": {
        "colab": {
          "base_uri": "https://localhost:8080/",
          "height": 35
        },
        "id": "43bfdfKcRCuG",
        "outputId": "309d1b5d-2c7c-4e01-ec94-051311e8deae"
      },
      "execution_count": null,
      "outputs": [
        {
          "output_type": "execute_result",
          "data": {
            "text/plain": [
              "'HELLO'"
            ],
            "application/vnd.google.colaboratory.intrinsic+json": {
              "type": "string"
            }
          },
          "metadata": {},
          "execution_count": 7
        }
      ]
    },
    {
      "cell_type": "code",
      "source": [
        "#5. Write a code to replace the word \"apple\" with \"orange\" in the string \"I like apple\".\n",
        "\n",
        "s=\"I like apple\"\n",
        "s.replace(\"apple\",\"orange\")"
      ],
      "metadata": {
        "colab": {
          "base_uri": "https://localhost:8080/",
          "height": 35
        },
        "id": "hUdb_hpYRS-L",
        "outputId": "cd800cae-c59a-47e0-c287-8e0c707dac55"
      },
      "execution_count": null,
      "outputs": [
        {
          "output_type": "execute_result",
          "data": {
            "text/plain": [
              "'I like orange'"
            ],
            "application/vnd.google.colaboratory.intrinsic+json": {
              "type": "string"
            }
          },
          "metadata": {},
          "execution_count": 10
        }
      ]
    },
    {
      "cell_type": "code",
      "source": [
        "#6. Write a code to create a list with numbers 1 to 5 and print it.\n",
        "\n",
        "lst=list(range(1,6))\n",
        "print(lst)"
      ],
      "metadata": {
        "colab": {
          "base_uri": "https://localhost:8080/"
        },
        "id": "_MRHLX3kRjzB",
        "outputId": "d222db58-9618-49ff-cb67-89ef9639105a"
      },
      "execution_count": null,
      "outputs": [
        {
          "output_type": "stream",
          "name": "stdout",
          "text": [
            "[1, 2, 3, 4, 5]\n"
          ]
        }
      ]
    },
    {
      "cell_type": "code",
      "source": [
        "#7. Write a code to append the number 10 to the list [1, 2, 3, 4].\n",
        "\n",
        "l=[1,2,3,4]\n",
        "l.append(10)"
      ],
      "metadata": {
        "colab": {
          "base_uri": "https://localhost:8080/"
        },
        "id": "XD1L1jsVRyRX",
        "outputId": "979107fb-8511-4c5c-9138-7130c3077008"
      },
      "execution_count": null,
      "outputs": [
        {
          "output_type": "stream",
          "name": "stdout",
          "text": [
            "[1, 2, 3, 4, 10]\n"
          ]
        }
      ]
    },
    {
      "cell_type": "code",
      "source": [
        "#8. Write a code to remove the number 3 from the list [1, 2, 3, 4, 5].\n",
        "\n",
        "l2=[1,2,3,4,5]\n",
        "l2.remove(3)"
      ],
      "metadata": {
        "colab": {
          "base_uri": "https://localhost:8080/"
        },
        "id": "psgXASFkStq4",
        "outputId": "5f7fc59c-fa0b-45a4-c8b4-bda9eaffd012"
      },
      "execution_count": null,
      "outputs": [
        {
          "output_type": "execute_result",
          "data": {
            "text/plain": [
              "[1, 2, 4, 5]"
            ]
          },
          "metadata": {},
          "execution_count": 27
        }
      ]
    },
    {
      "cell_type": "code",
      "source": [
        "#9. Write a code to access the second element in the list ['a', 'b', 'c', 'd'].\n",
        "\n",
        "l3=[\"a\",\"b\",\"c\",\"d\"]\n",
        "l3[1]"
      ],
      "metadata": {
        "colab": {
          "base_uri": "https://localhost:8080/",
          "height": 35
        },
        "id": "FM3iQi9CTItS",
        "outputId": "17fc6deb-b3c0-49b1-bb76-fdbe7fc842a5"
      },
      "execution_count": null,
      "outputs": [
        {
          "output_type": "execute_result",
          "data": {
            "text/plain": [
              "'b'"
            ],
            "application/vnd.google.colaboratory.intrinsic+json": {
              "type": "string"
            }
          },
          "metadata": {},
          "execution_count": 28
        }
      ]
    },
    {
      "cell_type": "code",
      "source": [
        "#10. Write a code to reverse the list [10, 20, 30, 40, 50].\n",
        "\n",
        "l4=[10,20,30,40,50]\n",
        "l4[::-1]"
      ],
      "metadata": {
        "colab": {
          "base_uri": "https://localhost:8080/"
        },
        "id": "FGdKk7F3TfjW",
        "outputId": "89d36dbc-4a36-4763-c88f-0202c32df9e4"
      },
      "execution_count": null,
      "outputs": [
        {
          "output_type": "execute_result",
          "data": {
            "text/plain": [
              "[50, 40, 30, 20, 10]"
            ]
          },
          "metadata": {},
          "execution_count": 29
        }
      ]
    },
    {
      "cell_type": "code",
      "source": [
        "#11. Write a code to create a tuple with the elements 100, 200, 300 and print it.\n",
        "\n",
        "t=(100,200,300)\n",
        "print(t)"
      ],
      "metadata": {
        "colab": {
          "base_uri": "https://localhost:8080/"
        },
        "id": "79Y4xQ4QTwE-",
        "outputId": "18892ee4-600e-4749-dfc8-a1b0e6f57991"
      },
      "execution_count": null,
      "outputs": [
        {
          "output_type": "stream",
          "name": "stdout",
          "text": [
            "(100, 200, 300)\n"
          ]
        }
      ]
    },
    {
      "cell_type": "code",
      "source": [
        "#12. Write a code to access the second-to-last element of the tuple ('red', 'green', 'blue', 'yellow').\n",
        "\n",
        "t1=(\"red\",\"green\",\"blue\",\"yellow\")\n",
        "t1[-2]"
      ],
      "metadata": {
        "colab": {
          "base_uri": "https://localhost:8080/",
          "height": 35
        },
        "id": "UK1UsILVT55s",
        "outputId": "f1c2edc8-9e99-4545-82dc-c381e3c2ca30"
      },
      "execution_count": null,
      "outputs": [
        {
          "output_type": "execute_result",
          "data": {
            "text/plain": [
              "'blue'"
            ],
            "application/vnd.google.colaboratory.intrinsic+json": {
              "type": "string"
            }
          },
          "metadata": {},
          "execution_count": 32
        }
      ]
    },
    {
      "cell_type": "code",
      "source": [
        "#13. Write a code to find the minimum number in the tuple (10, 20, 5, 15).\n",
        "\n",
        "t2=(10,20,5,15)\n",
        "min(t2)"
      ],
      "metadata": {
        "colab": {
          "base_uri": "https://localhost:8080/"
        },
        "id": "u3SByurgUMKy",
        "outputId": "74c14e36-2cd4-4af4-ac9d-8e1f2da21f0e"
      },
      "execution_count": null,
      "outputs": [
        {
          "output_type": "execute_result",
          "data": {
            "text/plain": [
              "5"
            ]
          },
          "metadata": {},
          "execution_count": 34
        }
      ]
    },
    {
      "cell_type": "code",
      "source": [
        "#14. Write a code to find the index of the element \"cat\" in the tuple ('dog', 'cat', 'rabbit').\n",
        "\n",
        "t3=('dog','cat','rabbit')\n",
        "t3.index('cat')"
      ],
      "metadata": {
        "colab": {
          "base_uri": "https://localhost:8080/"
        },
        "id": "CqN--XtfUf6M",
        "outputId": "19a59319-af35-4203-c784-8fe522ceb09d"
      },
      "execution_count": null,
      "outputs": [
        {
          "output_type": "execute_result",
          "data": {
            "text/plain": [
              "1"
            ]
          },
          "metadata": {},
          "execution_count": 35
        }
      ]
    },
    {
      "cell_type": "code",
      "source": [
        "#15. Write a code to create a tuple containing three different fruits and check if \"kiwi\" is in it.\n",
        "\n",
        "fruits=(\"apple\",\"banana\",\"kiwi\")\n",
        "print(\"kiwi\" in fruits)"
      ],
      "metadata": {
        "colab": {
          "base_uri": "https://localhost:8080/"
        },
        "id": "eGz4cpM3U3LN",
        "outputId": "4e63fed1-456f-4f36-f534-bcc066ea0972"
      },
      "execution_count": null,
      "outputs": [
        {
          "output_type": "stream",
          "name": "stdout",
          "text": [
            "True\n"
          ]
        }
      ]
    },
    {
      "cell_type": "code",
      "source": [
        "#16. Write a code to create a set with the elements 'a', 'b', 'c' and print it.\n",
        "\n",
        "set1={'a','b','c'}\n",
        "print(set1)\n"
      ],
      "metadata": {
        "colab": {
          "base_uri": "https://localhost:8080/"
        },
        "id": "SRm5mFiqVW4a",
        "outputId": "981f0731-4fa7-4a3a-8539-47c50945e0c4"
      },
      "execution_count": null,
      "outputs": [
        {
          "output_type": "stream",
          "name": "stdout",
          "text": [
            "{'b', 'c', 'a'}\n"
          ]
        }
      ]
    },
    {
      "cell_type": "code",
      "source": [
        "#17. Write a code to clear all elements from the set {1, 2, 3, 4, 5}.\n",
        "\n",
        "set2={1,2,3,4,5}\n",
        "set2.clear()"
      ],
      "metadata": {
        "id": "TyzOXMgIVwW8"
      },
      "execution_count": null,
      "outputs": []
    },
    {
      "cell_type": "code",
      "source": [
        "#18. Write a code to remove the element 4 from the set {1, 2, 3, 4}.\n",
        "\n",
        "set3={1,2,3,4}\n",
        "set3.remove(4)"
      ],
      "metadata": {
        "id": "t4PAF4d9V-XP"
      },
      "execution_count": null,
      "outputs": []
    },
    {
      "cell_type": "code",
      "source": [
        "#19. Write a code to find the union of two sets {1, 2, 3} and {3, 4, 5}.\n",
        "\n",
        "s1={1,2,3}\n",
        "s2={3,4,5}\n",
        "print(s1 | s2)"
      ],
      "metadata": {
        "colab": {
          "base_uri": "https://localhost:8080/"
        },
        "id": "lq2Ias0tWAKC",
        "outputId": "baf0dd41-3b6b-4976-87a6-4e960369b816"
      },
      "execution_count": null,
      "outputs": [
        {
          "output_type": "stream",
          "name": "stdout",
          "text": [
            "{1, 2, 3, 4, 5}\n"
          ]
        }
      ]
    },
    {
      "cell_type": "code",
      "source": [
        "#20. Write a code to find the intersection of two sets {1, 2, 3} and {2, 3, 4}.\n",
        "\n",
        "s3={1,2,3}\n",
        "s4={2,3,4}\n",
        "print(s3 & s4)"
      ],
      "metadata": {
        "colab": {
          "base_uri": "https://localhost:8080/"
        },
        "id": "afWV2w4HWW2j",
        "outputId": "47856ba6-b7af-4e1a-c08d-c34324823851"
      },
      "execution_count": null,
      "outputs": [
        {
          "output_type": "stream",
          "name": "stdout",
          "text": [
            "{2, 3}\n"
          ]
        }
      ]
    },
    {
      "cell_type": "code",
      "source": [
        "#21. Write a code to create a dictionary with the keys \"name\", \"age\", and \"city\", and print it.\n",
        "\n",
        "d1={\"name\":\"Shubham\",\"age\":20, \"city\":\"Delhi\"}\n",
        "print(d1)"
      ],
      "metadata": {
        "colab": {
          "base_uri": "https://localhost:8080/"
        },
        "id": "CqKqIolmW5vh",
        "outputId": "1b3a15c8-bcfd-4272-9531-d5ee49de4914"
      },
      "execution_count": null,
      "outputs": [
        {
          "output_type": "stream",
          "name": "stdout",
          "text": [
            "{'name': 'Shubham', 'age': 20, 'city': 'Delhi'}\n"
          ]
        }
      ]
    },
    {
      "cell_type": "code",
      "source": [
        "#22. Write a code to add a new key-value pair \"country\": \"USA\" to the dictionary {'name': 'John', 'age': 25}.\n",
        "\n",
        "d2={\"name\":\"John\",\"age\":25}\n",
        "d2[\"country\"]=\"USA\""
      ],
      "metadata": {
        "colab": {
          "base_uri": "https://localhost:8080/"
        },
        "id": "rJpVNU8SXDVH",
        "outputId": "21b87d57-e104-4dd0-92f5-9394a6ee8e70"
      },
      "execution_count": null,
      "outputs": [
        {
          "output_type": "execute_result",
          "data": {
            "text/plain": [
              "{'name': 'John', 'age': 25, 'country': 'USA'}"
            ]
          },
          "metadata": {},
          "execution_count": 55
        }
      ]
    },
    {
      "cell_type": "code",
      "source": [
        "#23. Write a code to access the value associated with the key \"name\" in the dictionary {'name': 'Alice', 'age': 30}.\n",
        "\n",
        "d3={\"name\":\"Alice\",\"age\":30}\n",
        "d3[\"name\"]"
      ],
      "metadata": {
        "colab": {
          "base_uri": "https://localhost:8080/",
          "height": 35
        },
        "id": "Xai799mOXaOI",
        "outputId": "76349ccb-0ca4-4b3e-e9ce-209e17b258a5"
      },
      "execution_count": null,
      "outputs": [
        {
          "output_type": "execute_result",
          "data": {
            "text/plain": [
              "'Alice'"
            ],
            "application/vnd.google.colaboratory.intrinsic+json": {
              "type": "string"
            }
          },
          "metadata": {},
          "execution_count": 57
        }
      ]
    },
    {
      "cell_type": "code",
      "source": [
        "#24. Write a code to remove the key \"age\" from the dictionary {'name': 'Bob', 'age': 22, 'city': 'New York'}.\n",
        "\n",
        "d4={\"name\":\"Bob\",\"age\":22,\"city\":\"New York\"}\n",
        "del d4[\"age\"]"
      ],
      "metadata": {
        "id": "H8hoHChoXnYE"
      },
      "execution_count": null,
      "outputs": []
    },
    {
      "cell_type": "code",
      "source": [
        "#25. Write a code to check if the key \"city\" exists in the dictionary {'name': 'Alice', 'city': 'Paris'}.\n",
        "\n",
        "d5={\"name\":\"Alice\",\"city\":\"Paris\"}\n",
        "\"city\"in d5.keys()\n"
      ],
      "metadata": {
        "colab": {
          "base_uri": "https://localhost:8080/"
        },
        "id": "txRcVKWhYBmx",
        "outputId": "1afbf06f-44ab-46cf-ef71-7ba7b925f0ea"
      },
      "execution_count": null,
      "outputs": [
        {
          "output_type": "execute_result",
          "data": {
            "text/plain": [
              "True"
            ]
          },
          "metadata": {},
          "execution_count": 72
        }
      ]
    },
    {
      "cell_type": "code",
      "source": [
        "#26. Write a code to create a list, a tuple, and a dictionary, and print them all.\n",
        "\n",
        "lt=[1,2,\"Shubham\",4,\"Rajeev\"]\n",
        "tu=(1,3,\"Mehta\",\"Chopra\")\n",
        "di={\"name\":\"Shubham\",\"age\":24, \"city\":\"Delhi\"}\n",
        "print(lt,tu,di)\n"
      ],
      "metadata": {
        "colab": {
          "base_uri": "https://localhost:8080/"
        },
        "id": "Bd-szQ7BYCmH",
        "outputId": "248452d8-5e93-4d2a-97b2-9f030357fb04"
      },
      "execution_count": null,
      "outputs": [
        {
          "output_type": "stream",
          "name": "stdout",
          "text": [
            "[1, 2, 'Shubham', 4, 'Rajeev'] (1, 3, 'Mehta', 'Chopra') {'name': 'Shubham', 'age': 24, 'city': 'Delhi'}\n"
          ]
        }
      ]
    },
    {
      "cell_type": "code",
      "source": [
        "#27. Write a code to create a list of 5 random numbers between 1 and 100, sort it in ascending order, and print the result.\n",
        "\n",
        "l5=[60,79,43,21,11]\n",
        "print(sorted(l5))"
      ],
      "metadata": {
        "colab": {
          "base_uri": "https://localhost:8080/"
        },
        "id": "p_NPwf-cZpUg",
        "outputId": "b50dac7f-1b2e-496d-9e98-8f3ecb1a8a22"
      },
      "execution_count": null,
      "outputs": [
        {
          "output_type": "stream",
          "name": "stdout",
          "text": [
            "[11, 21, 43, 60, 79]\n"
          ]
        }
      ]
    },
    {
      "cell_type": "code",
      "source": [
        "#28. Write a code to create a list with strings and print the element at the third index.\n",
        "l6=[\"simon\",'delhi','london','ritu','sagar']\n",
        "l6[3]\n",
        "#printing 3 index as per Python indexing as question was ambiguous whether as per python indexing or normal list count\n"
      ],
      "metadata": {
        "colab": {
          "base_uri": "https://localhost:8080/",
          "height": 35
        },
        "id": "DoK3wx26ahuX",
        "outputId": "77c8d7c7-a2b6-4c9f-eb94-3f0f417e6c12"
      },
      "execution_count": null,
      "outputs": [
        {
          "output_type": "execute_result",
          "data": {
            "text/plain": [
              "'ritu'"
            ],
            "application/vnd.google.colaboratory.intrinsic+json": {
              "type": "string"
            }
          },
          "metadata": {},
          "execution_count": 90
        }
      ]
    },
    {
      "cell_type": "code",
      "source": [
        "#29. Write a code to combine two dictionaries into one and print the result.\n",
        "\n",
        "d9={'key1':'value1','key2':'value2'}\n",
        "d10={'key10':'value10',\"key20\":\"value20\", \"key30\":\"value30\"}\n",
        "d11=d9 | d10\n",
        "print(d11)"
      ],
      "metadata": {
        "colab": {
          "base_uri": "https://localhost:8080/"
        },
        "id": "ZpCpobSnbAXS",
        "outputId": "dbc4daec-6dd7-4cc2-f9df-7169c3ce5921"
      },
      "execution_count": 2,
      "outputs": [
        {
          "output_type": "stream",
          "name": "stdout",
          "text": [
            "{'key1': 'value1', 'key2': 'value2', 'key10': 'value10', 'key20': 'value20', 'key30': 'value30'}\n"
          ]
        }
      ]
    },
    {
      "cell_type": "code",
      "source": [
        "#30. Write a code to convert a list of strings into a set.\n",
        "\n",
        "l10=[\"bran\",\"john\",\"arya\",\"ross\"]\n",
        "s10=set(l10)"
      ],
      "metadata": {
        "id": "cFKck7fNcCId"
      },
      "execution_count": 3,
      "outputs": []
    },
    {
      "cell_type": "code",
      "source": [],
      "metadata": {
        "id": "Dty_z2oI3HjJ"
      },
      "execution_count": null,
      "outputs": []
    }
  ]
}
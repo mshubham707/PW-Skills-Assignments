{
  "nbformat": 4,
  "nbformat_minor": 0,
  "metadata": {
    "colab": {
      "provenance": []
    },
    "kernelspec": {
      "name": "python3",
      "display_name": "Python 3"
    },
    "language_info": {
      "name": "python"
    }
  },
  "cells": [
    {
      "cell_type": "markdown",
      "source": [
        "**Python Basics Questions**\n",
        "\n",
        "\n",
        "1.  What is Python, and why is it popular?\n",
        ">>  Python is a programming language which is widely due to its simplicity, large community of developers and extensive libraries.\n",
        "\n",
        "2.  What is an interpreter in Python?\n",
        ">> An interpretor is a program that reads and runs any code written in python so that it becomes readable to machines or computers.\n",
        "\n",
        "3. What are pre-defined keywords in Python?\n",
        ">> As the name suggests these keywords are special words reserved in python for specific purposes. For example, if, else, elif, while, for etc. have there own uses and cannot be used as identifiers.\n",
        "\n",
        "4. Can keywords be used as variable names?\n",
        ">> No, keywords cannot be used as a variable name. Python will throw an error if done so.\n",
        "\n",
        "5. What is mutability in Python?\n",
        ">> Some objects or datatypes such as list or set can be changed or are editable. This property is knows as mutability in Python.\n",
        "\n",
        "6. Why are lists mutable, but tuples are immutable?\n",
        ">> Lists are mutable because we can change the elements of a list after it is created while for tuple once it is created its elements cannot be changed hence tuples are immutable.\n",
        "\n",
        "7. What is the difference between “==” and “is” operators in Python?\n",
        ">> \"==\" is a comparison operator which checks whether any value, function or objects are equal or not. While \"is\" is an identity operator which checks whether the two objects refers to same object in memory or not.\n",
        "\n",
        "8. What are logical operators in Python?\n",
        ">> Logical operators are used to combine and check for multiple conditions on an object. For example to check whether 10>1 and/or 10<11.\n",
        "\n",
        "9. What is type casting in Python?\n",
        ">> Type casting means changing the type of one object to other data type. For example changing int to float or float to int.\n",
        "\n",
        "10. What is the difference between implicit and explicit type casting?\n",
        ">> Implicit type casting happens when python itself examines the operation and execute it by automatically converting data types without any external instruction. While explicit type casting is when user instructs python to change the data type of value using code.\n",
        "\n",
        "11. What is the purpose of conditional statements in Python?\n",
        ">> Conditional statements are used to instruct python to execute a program only if certain conditions are met. For example printing only even numbers from a list of numbers using a condition that remainder of even number is zero when divided by 2.\n",
        "\n",
        "12. How does the elif statement work?\n",
        ">> Elif means else if. These statements work if you have multiple condtions to check and you want to execute a program only if the preceding condition is not met. It will sequentially check starting from if condition whether it is true or not then it will check for elif and then succeeding elif and so on if preceding conditons are false.\n",
        "\n",
        "13. What is the difference between for and while loops?\n",
        ">> for loop is used to loop over each value or items in an iterable. while loop is used to iterate the elements of an iterable till the condition is true.\n",
        "\n",
        "14.  Describe a scenario where a while loop is more suitable than a for loop?\n",
        ">> While loop is suitable to use instead of a for loop if we do not know number of iterations and want to end the execution only if a conditon is met. For example you have a infinitely long list of integers and you want to iterate over this list and stop only when you find a negative number. In this case  while loop is more suitable.\n",
        "\n",
        "\n"
      ],
      "metadata": {
        "id": "Pz43p_SGef73"
      }
    },
    {
      "cell_type": "markdown",
      "source": [
        "**Python Basics Practical Questions**"
      ],
      "metadata": {
        "id": "TtYjx2XUf9qT"
      }
    },
    {
      "cell_type": "code",
      "execution_count": 1,
      "metadata": {
        "colab": {
          "base_uri": "https://localhost:8080/"
        },
        "id": "wXwLQlVxviKT",
        "outputId": "82053147-163a-491a-bf44-649254f77e49"
      },
      "outputs": [
        {
          "output_type": "stream",
          "name": "stdout",
          "text": [
            "Hello, World!\n"
          ]
        }
      ],
      "source": [
        "#1. Write a Python program to print \"Hello, World!\"\n",
        "\n",
        "print(\"Hello, World!\")"
      ]
    },
    {
      "cell_type": "code",
      "source": [
        "#2. Write a Python program that displays your name and age.\n",
        "\n",
        "name=\"Shubham Mehta\"\n",
        "age= 24\n",
        "print(\"Name:\", name, \"\\nAge:\",age)"
      ],
      "metadata": {
        "colab": {
          "base_uri": "https://localhost:8080/"
        },
        "id": "SyE-vR-Ev7Wk",
        "outputId": "ee7a9c3a-25d5-4dd9-97c7-1edb9059ad68"
      },
      "execution_count": 2,
      "outputs": [
        {
          "output_type": "stream",
          "name": "stdout",
          "text": [
            "Name: Shubham Mehta \n",
            "Age: 24\n"
          ]
        }
      ]
    },
    {
      "cell_type": "code",
      "source": [
        "#3. Write code to print all the pre-defined keywords in Python using the keyword library.\n",
        "\n",
        "import keyword\n",
        "\n",
        "print(keyword.kwlist)"
      ],
      "metadata": {
        "colab": {
          "base_uri": "https://localhost:8080/"
        },
        "id": "gWwfmx-ExLWk",
        "outputId": "f0415a5b-779a-4ba8-eeb7-7a2c5fa81824"
      },
      "execution_count": 3,
      "outputs": [
        {
          "output_type": "stream",
          "name": "stdout",
          "text": [
            "['False', 'None', 'True', 'and', 'as', 'assert', 'async', 'await', 'break', 'class', 'continue', 'def', 'del', 'elif', 'else', 'except', 'finally', 'for', 'from', 'global', 'if', 'import', 'in', 'is', 'lambda', 'nonlocal', 'not', 'or', 'pass', 'raise', 'return', 'try', 'while', 'with', 'yield']\n"
          ]
        }
      ]
    },
    {
      "cell_type": "code",
      "source": [
        "#4.  Write a program that checks if a given word is a Python keyword.\n",
        "\n",
        "import keyword\n",
        "\n",
        "word=input(\"Enter a word:\")\n",
        "if word in keyword.kwlist:\n",
        "  print(f\"{word}, is a Python keyword\")\n",
        "else:\n",
        "  print(f\"{word}, is not a Python keyword\")"
      ],
      "metadata": {
        "colab": {
          "base_uri": "https://localhost:8080/"
        },
        "id": "RePvDrjGxsV2",
        "outputId": "99f2ea10-2a3b-4c90-8d2f-ae7744dc8655"
      },
      "execution_count": 4,
      "outputs": [
        {
          "output_type": "stream",
          "name": "stdout",
          "text": [
            "Enter a word:elif\n",
            "elif, is a Python keyword\n"
          ]
        }
      ]
    },
    {
      "cell_type": "code",
      "source": [
        "#5. Create a list and tuple in Python, and demonstrate how attempting to change an element works differently for each.\n",
        "\n",
        "l1=[\"Shubham\", 1, 100, \"key\"]\n",
        "print(\"old_list:\",l1)\n",
        "t1=(\"Shubham\", 1, 100, \"key\")\n",
        "print(\"old_tuple:\", t1)\n",
        "l1[3]=25\n",
        "print(\"modified_list:\",l1) #will give new modified list\n",
        "t1[3]=25 #will throw an error that you can't assign an item to tuple object"
      ],
      "metadata": {
        "colab": {
          "base_uri": "https://localhost:8080/",
          "height": 228
        },
        "id": "0K9cUK91yTzv",
        "outputId": "66424eb1-1dc1-4fcc-a661-5a9bae7325e4"
      },
      "execution_count": 5,
      "outputs": [
        {
          "output_type": "stream",
          "name": "stdout",
          "text": [
            "old_list: ['Shubham', 1, 100, 'key']\n",
            "old_tuple: ('Shubham', 1, 100, 'key')\n",
            "modified_list: ['Shubham', 1, 100, 25]\n"
          ]
        },
        {
          "output_type": "error",
          "ename": "TypeError",
          "evalue": "'tuple' object does not support item assignment",
          "traceback": [
            "\u001b[0;31m---------------------------------------------------------------------------\u001b[0m",
            "\u001b[0;31mTypeError\u001b[0m                                 Traceback (most recent call last)",
            "\u001b[0;32m<ipython-input-5-4086ca7a21e4>\u001b[0m in \u001b[0;36m<cell line: 0>\u001b[0;34m()\u001b[0m\n\u001b[1;32m      7\u001b[0m \u001b[0ml1\u001b[0m\u001b[0;34m[\u001b[0m\u001b[0;36m3\u001b[0m\u001b[0;34m]\u001b[0m\u001b[0;34m=\u001b[0m\u001b[0;36m25\u001b[0m\u001b[0;34m\u001b[0m\u001b[0;34m\u001b[0m\u001b[0m\n\u001b[1;32m      8\u001b[0m \u001b[0mprint\u001b[0m\u001b[0;34m(\u001b[0m\u001b[0;34m\"modified_list:\"\u001b[0m\u001b[0;34m,\u001b[0m\u001b[0ml1\u001b[0m\u001b[0;34m)\u001b[0m \u001b[0;31m#will give new modified list\u001b[0m\u001b[0;34m\u001b[0m\u001b[0;34m\u001b[0m\u001b[0m\n\u001b[0;32m----> 9\u001b[0;31m \u001b[0mt1\u001b[0m\u001b[0;34m[\u001b[0m\u001b[0;36m3\u001b[0m\u001b[0;34m]\u001b[0m\u001b[0;34m=\u001b[0m\u001b[0;36m25\u001b[0m \u001b[0;31m#will throw an error that you can't assign an item to tuple object\u001b[0m\u001b[0;34m\u001b[0m\u001b[0;34m\u001b[0m\u001b[0m\n\u001b[0m",
            "\u001b[0;31mTypeError\u001b[0m: 'tuple' object does not support item assignment"
          ]
        }
      ]
    },
    {
      "cell_type": "code",
      "source": [
        "#6 and 7. Write a function to demonstrate the behavior of mutable and immutable arguments.\n",
        "\n",
        "l=[\"shubh\", \"city\", 12]\n",
        "def func(l): #will replace the elements of mutable argument with an asterisk(*)\n",
        "  if type(l)==str or type(l)==int or type(l)==float or type(l)==tuple:\n",
        "    print(type(l),\"is immutable, will throw an error if tried to edit:\", l)\n",
        "  if type(l)==list or type(l)==set or type(l)==dict:\n",
        "    print(type(l), \"is mutable; Original Argument:\", l)\n",
        "    for i in range(len(l)):\n",
        "      l[i]=\"*\"\n",
        "    print(\"Modified Argument:\",l)\n",
        "func(l)"
      ],
      "metadata": {
        "colab": {
          "base_uri": "https://localhost:8080/"
        },
        "id": "D2Jbg7lf0ok9",
        "outputId": "e3de1343-24ca-4f63-f8b6-3882abcea140"
      },
      "execution_count": 6,
      "outputs": [
        {
          "output_type": "stream",
          "name": "stdout",
          "text": [
            "<class 'list'> is mutable; Original Argument: ['shubh', 'city', 12]\n",
            "Modified Argument: ['*', '*', '*']\n"
          ]
        }
      ]
    },
    {
      "cell_type": "code",
      "source": [
        "#8. Write a program to demonstrate the use of logical operators. t\n",
        "\n",
        "age=13\n",
        "if age not in list(range(14,100)):\n",
        "  print(\"You are not eligible to watch the show\")\n",
        "if age>13 and age<18:\n",
        "  print(\"Parent's discretion is required to watch the show\")\n",
        "if age==18 or age>18:\n",
        "  print(\"You can watch the show\")\n",
        "\n",
        "\n"
      ],
      "metadata": {
        "id": "envbL_Mp7k8e",
        "colab": {
          "base_uri": "https://localhost:8080/"
        },
        "outputId": "d2beed31-fd0a-46b8-bb12-62a23c533ea3"
      },
      "execution_count": 7,
      "outputs": [
        {
          "output_type": "stream",
          "name": "stdout",
          "text": [
            "You are not eligible to watch the show\n"
          ]
        }
      ]
    },
    {
      "cell_type": "code",
      "source": [
        "#9. Write a Python program to convert user input from string to integer, float, and boolean types.\n",
        "\n",
        "usr_input=input(\"Enter a number:\")\n",
        "print(\"Original type\", type(usr_input))\n",
        "print(\"Coverted to int\", int(usr_input))\n",
        "print(\"Converted to float\", float(usr_input))\n",
        "print(\"Converted to boolean\", bool(usr_input))\n"
      ],
      "metadata": {
        "id": "6vhQqmcNKJ8V",
        "colab": {
          "base_uri": "https://localhost:8080/"
        },
        "outputId": "de744689-e690-4453-cd13-e47a6c1830ac"
      },
      "execution_count": 8,
      "outputs": [
        {
          "output_type": "stream",
          "name": "stdout",
          "text": [
            "Enter a number:13\n",
            "Original type <class 'str'>\n",
            "Coverted to int 13\n",
            "Converted to float 13.0\n",
            "Converted to boolean True\n"
          ]
        }
      ]
    },
    {
      "cell_type": "code",
      "source": [
        "#10. Write code to demonstrate type casting with list elements.\n",
        "\n",
        "og_list=[100,\"2\",2.4,\"33\"]\n",
        "print(og_list)\n",
        "\n",
        "typecasted_int_list=[]\n",
        "\n",
        "for i in og_list:\n",
        "  print(i, type(i))\n",
        "  typecasted_int_list.append(int(i))\n",
        "\n",
        "print(typecasted_int_list)\n"
      ],
      "metadata": {
        "colab": {
          "base_uri": "https://localhost:8080/"
        },
        "id": "yH7M8oP5MPCJ",
        "outputId": "fcd049c9-bd19-47dd-f558-4298fe088607"
      },
      "execution_count": 9,
      "outputs": [
        {
          "output_type": "stream",
          "name": "stdout",
          "text": [
            "[100, '2', 2.4, '33']\n",
            "100 <class 'int'>\n",
            "2 <class 'str'>\n",
            "2.4 <class 'float'>\n",
            "33 <class 'str'>\n",
            "[100, 2, 2, 33]\n"
          ]
        }
      ]
    },
    {
      "cell_type": "code",
      "source": [
        "#11. Write a program that checks if a number is positive, negative, or zero.\n",
        "\n",
        "num=11\n",
        "\n",
        "if num<0:\n",
        "  print(\"Negative Number\")\n",
        "elif num>0:\n",
        "  print(\"Positive Number\")\n",
        "else:\n",
        "  print(\"Zero\")"
      ],
      "metadata": {
        "colab": {
          "base_uri": "https://localhost:8080/"
        },
        "id": "EcJFDtM_OCuJ",
        "outputId": "031d5256-b57d-4b96-def4-0f60c43150c4"
      },
      "execution_count": 10,
      "outputs": [
        {
          "output_type": "stream",
          "name": "stdout",
          "text": [
            "Positive Number\n"
          ]
        }
      ]
    },
    {
      "cell_type": "code",
      "source": [
        "#12. Write a for loop to print numbers from 1 to 10.\n",
        "\n",
        "for i in range(1,11):\n",
        "  print(i)\n"
      ],
      "metadata": {
        "colab": {
          "base_uri": "https://localhost:8080/"
        },
        "id": "awfp4tYKQBjs",
        "outputId": "82bfa38d-a478-4362-a1f1-6d996dcfa7b0"
      },
      "execution_count": 11,
      "outputs": [
        {
          "output_type": "stream",
          "name": "stdout",
          "text": [
            "1\n",
            "2\n",
            "3\n",
            "4\n",
            "5\n",
            "6\n",
            "7\n",
            "8\n",
            "9\n",
            "10\n"
          ]
        }
      ]
    },
    {
      "cell_type": "code",
      "source": [
        "#13. Write a Python program to find the sum of all even numbers between 1 and 50.\n",
        "\n",
        "summation=0\n",
        "for i in range(1,51):\n",
        "  if i%2==0:\n",
        "    summation+=i\n",
        "print(\"Sum of all even numbers between 1 and 50 is\",summation)"
      ],
      "metadata": {
        "colab": {
          "base_uri": "https://localhost:8080/"
        },
        "id": "N2jW58yaQdW3",
        "outputId": "b089ba7b-38ae-44f3-caeb-bbd93f3846cb"
      },
      "execution_count": 12,
      "outputs": [
        {
          "output_type": "stream",
          "name": "stdout",
          "text": [
            "Sum of all even numbers between 1 and 50 is 650\n"
          ]
        }
      ]
    },
    {
      "cell_type": "code",
      "source": [
        "#14. Write a program to reverse a string using a while loop.\n",
        "\n",
        "string=\"Data_Science\"\n",
        "rev_string=\"\"\n",
        "indx=-1\n",
        "while len(rev_string)<len(string):\n",
        "  rev_string+=string[indx]\n",
        "  indx-=1\n",
        "print(rev_string)\n"
      ],
      "metadata": {
        "colab": {
          "base_uri": "https://localhost:8080/"
        },
        "id": "Yk5lAIqKNKtP",
        "outputId": "71259a3e-5c80-4501-b517-4fa2f6f0f513"
      },
      "execution_count": 14,
      "outputs": [
        {
          "output_type": "stream",
          "name": "stdout",
          "text": [
            "ecneicS_ataD\n"
          ]
        }
      ]
    },
    {
      "cell_type": "code",
      "source": [
        "#15. Write a Python program to calculate the factorial of a number provided by the user using a while loop\n",
        "\n",
        "inpt_num=int(input(\"Enter a number:\"))\n",
        "\n",
        "if inpt_num>=0:\n",
        "  product=1\n",
        "  while inpt_num>0:\n",
        "    product*=inpt_num\n",
        "    inpt_num-=1\n",
        "  print(product)\n",
        "else:\n",
        "  print(\"Factorials don't exist for negative numbers\")\n",
        "\n",
        "\n"
      ],
      "metadata": {
        "colab": {
          "base_uri": "https://localhost:8080/"
        },
        "id": "N8mzqmylU8Sn",
        "outputId": "90fabdd3-8c0e-403e-a2fb-0f2fe47fe9cb"
      },
      "execution_count": 13,
      "outputs": [
        {
          "output_type": "stream",
          "name": "stdout",
          "text": [
            "Enter a number:10\n",
            "3628800\n"
          ]
        }
      ]
    }
  ]
}
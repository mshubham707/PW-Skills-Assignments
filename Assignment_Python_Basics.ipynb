{
  "nbformat": 4,
  "nbformat_minor": 0,
  "metadata": {
    "colab": {
      "provenance": []
    },
    "kernelspec": {
      "name": "python3",
      "display_name": "Python 3"
    },
    "language_info": {
      "name": "python"
    }
  },
  "cells": [
    {
      "cell_type": "markdown",
      "source": [
        "**Python Basics Questions**\n",
        "\n",
        "\n",
        "1.  What is Python, and why is it popular?\n",
        ">>  Python is a programming language which is widely due to its simplicity, large community of developers and extensive libraries.\n",
        "\n",
        "2.  What is an interpreter in Python?\n",
        ">> An interpretor is a program that reads and runs any code written in python so that it becomes readable to machines or computers.\n",
        "\n",
        "3. What are pre-defined keywords in Python?\n",
        ">> As the name suggests these keywords are special words reserved in python for specific purposes. For example, if, else, elif, while, for etc. have there own uses and cannot be used as identifiers.\n",
        "\n",
        "4. Can keywords be used as variable names?\n",
        ">> No, keywords cannot be used as a variable name. Python will throw an error if done so.\n",
        "\n",
        "5. What is mutability in Python?\n",
        ">> Some objects or datatypes such as list or set can be changed or are editable. This property is knows as mutability in Python.\n",
        "\n",
        "6. Why are lists mutable, but tuples are immutable?\n",
        ">> Lists are mutable because we can change the elements of a list after it is created while for tuple once it is created its elements cannot be changed hence tuples are immutable.\n",
        "\n",
        "7. What is the difference between “==” and “is” operators in Python?\n",
        ">> \"==\" is a comparison operator which checks whether any value, function or objects are equal or not. While \"is\" is an identity operator which checks whether the two objects refers to same object in memory or not.\n",
        "\n",
        "8. What are logical operators in Python?\n",
        ">> Logical operators are used to combine and check for multiple conditions on an object. For example to check whether 10>1 and/or 10<11.\n",
        "\n",
        "9. What is type casting in Python?\n",
        ">> Type casting means changing the type of one object to other data type. For example changing int to float or float to int.\n",
        "\n",
        "10. What is the difference between implicit and explicit type casting?\n",
        ">> Implicit type casting happens when python itself examines the operation and execute it by automatically converting data types without any external instruction. While explicit type casting is when user instructs python to change the data type of value using code.\n",
        "\n",
        "11. What is the purpose of conditional statements in Python?\n",
        ">> Conditional statements are used to instruct python to execute a program only if certain conditions are met. For example printing only even numbers from a list of numbers using a condition that remainder of even number is zero when divided by 2.\n",
        "\n",
        "12. How does the elif statement work?\n",
        ">> Elif means else if. These statements work if you have multiple condtions to check and you want to execute a program only if the preceding condition is not met. It will sequentially check starting from if condition whether it is true or not then it will check for elif and then succeeding elif and so on if preceding conditons are false.\n",
        "\n",
        "13. What is the difference between for and while loops?\n",
        ">> for loop is used to loop over each value or items in an iterable. while loop is used to iterate the elements of an iterable till the condition is true.\n",
        "\n",
        "14.  Describe a scenario where a while loop is more suitable than a for loop?\n",
        ">> While loop is suitable to use instead of a for loop if we do not know number of iterations and want to end the execution only if a conditon is met. For example you have a infinitely long list of integers and you want to iterate over this list and stop only when you find a negative number. In this case  while loop is more suitable.\n",
        "\n",
        "\n"
      ],
      "metadata": {
        "id": "Pz43p_SGef73"
      }
    },
    {
      "cell_type": "markdown",
      "source": [
        "**Python Basics Practical Questions**"
      ],
      "metadata": {
        "id": "TtYjx2XUf9qT"
      }
    },
    {
      "cell_type": "code",
      "execution_count": null,
      "metadata": {
        "colab": {
          "base_uri": "https://localhost:8080/"
        },
        "id": "wXwLQlVxviKT",
        "outputId": "5093ed5d-58a8-40b3-c0cc-81c6be2d8d18"
      },
      "outputs": [
        {
          "output_type": "stream",
          "name": "stdout",
          "text": [
            "Hello, World!\n"
          ]
        }
      ],
      "source": [
        "#1. Write a Python program to print \"Hello, World!\"\n",
        "\n",
        "print(\"Hello, World!\")"
      ]
    },
    {
      "cell_type": "code",
      "source": [
        "#2. Write a Python program that displays your name and age.\n",
        "\n",
        "name=\"Shubham Mehta\"\n",
        "age= 24\n",
        "print(\"Name:\", name, \"\\nAge:\",age)"
      ],
      "metadata": {
        "colab": {
          "base_uri": "https://localhost:8080/"
        },
        "id": "SyE-vR-Ev7Wk",
        "outputId": "071c0367-8967-4ea8-cdc3-a9a655de43bd"
      },
      "execution_count": null,
      "outputs": [
        {
          "output_type": "stream",
          "name": "stdout",
          "text": [
            "Name: Shubham Mehta \n",
            "Age: 24\n"
          ]
        }
      ]
    },
    {
      "cell_type": "code",
      "source": [
        "#3. Write code to print all the pre-defined keywords in Python using the keyword library.\n",
        "\n",
        "import keyword\n",
        "\n",
        "print(keyword.kwlist)"
      ],
      "metadata": {
        "colab": {
          "base_uri": "https://localhost:8080/"
        },
        "id": "gWwfmx-ExLWk",
        "outputId": "9a81ce90-16a0-49d8-8f04-5e6a959df5e3"
      },
      "execution_count": null,
      "outputs": [
        {
          "output_type": "stream",
          "name": "stdout",
          "text": [
            "['False', 'None', 'True', 'and', 'as', 'assert', 'async', 'await', 'break', 'class', 'continue', 'def', 'del', 'elif', 'else', 'except', 'finally', 'for', 'from', 'global', 'if', 'import', 'in', 'is', 'lambda', 'nonlocal', 'not', 'or', 'pass', 'raise', 'return', 'try', 'while', 'with', 'yield']\n"
          ]
        }
      ]
    },
    {
      "cell_type": "code",
      "source": [
        "#4.  Write a program that checks if a given word is a Python keyword.\n",
        "\n",
        "import keyword\n",
        "\n",
        "word=input(\"Enter a word:\")\n",
        "if word in keyword.kwlist:\n",
        "  print(f\"{word}, is a Python keyword\")\n",
        "else:\n",
        "  print(f\"{word}, is not a Python keyword\")"
      ],
      "metadata": {
        "colab": {
          "base_uri": "https://localhost:8080/"
        },
        "id": "RePvDrjGxsV2",
        "outputId": "4aca5639-6034-4f39-bd5f-4beec6417ded"
      },
      "execution_count": null,
      "outputs": [
        {
          "output_type": "stream",
          "name": "stdout",
          "text": [
            "Enter a word:elif\n",
            "elif, is a Python keyword\n"
          ]
        }
      ]
    },
    {
      "cell_type": "code",
      "source": [
        "#5. Create a list and tuple in Python, and demonstrate how attempting to change an element works differently for each.\n",
        "\n",
        "l1=[\"Shubham\", 1, 100, \"key\"]\n",
        "print(\"old_list:\",l1)\n",
        "t1=(\"Shubham\", 1, 100, \"key\")\n",
        "print(\"old_tuple:\", t1)\n",
        "l1[3]=25\n",
        "print(\"modified_list:\",l1) #will give new modified list\n",
        "t1[3]=25 #will throw an error that you can't assign an item to tuple object"
      ],
      "metadata": {
        "colab": {
          "base_uri": "https://localhost:8080/",
          "height": 228
        },
        "id": "0K9cUK91yTzv",
        "outputId": "3e09d5b3-3800-42a2-fd7a-d46887a4faf1"
      },
      "execution_count": null,
      "outputs": [
        {
          "output_type": "stream",
          "name": "stdout",
          "text": [
            "old_list: ['Shubham', 1, 100, 'key']\n",
            "old_tuple: ('Shubham', 1, 100, 'key')\n",
            "modified_list: ['Shubham', 1, 100, 25]\n"
          ]
        },
        {
          "output_type": "error",
          "ename": "TypeError",
          "evalue": "'tuple' object does not support item assignment",
          "traceback": [
            "\u001b[0;31m---------------------------------------------------------------------------\u001b[0m",
            "\u001b[0;31mTypeError\u001b[0m                                 Traceback (most recent call last)",
            "\u001b[0;32m<ipython-input-35-e826605044c5>\u001b[0m in \u001b[0;36m<cell line: 0>\u001b[0;34m()\u001b[0m\n\u001b[1;32m      7\u001b[0m \u001b[0ml1\u001b[0m\u001b[0;34m[\u001b[0m\u001b[0;36m3\u001b[0m\u001b[0;34m]\u001b[0m\u001b[0;34m=\u001b[0m\u001b[0;36m25\u001b[0m\u001b[0;34m\u001b[0m\u001b[0;34m\u001b[0m\u001b[0m\n\u001b[1;32m      8\u001b[0m \u001b[0mprint\u001b[0m\u001b[0;34m(\u001b[0m\u001b[0;34m\"modified_list:\"\u001b[0m\u001b[0;34m,\u001b[0m\u001b[0ml1\u001b[0m\u001b[0;34m)\u001b[0m \u001b[0;31m#will give new modified list\u001b[0m\u001b[0;34m\u001b[0m\u001b[0;34m\u001b[0m\u001b[0m\n\u001b[0;32m----> 9\u001b[0;31m \u001b[0mt1\u001b[0m\u001b[0;34m[\u001b[0m\u001b[0;36m3\u001b[0m\u001b[0;34m]\u001b[0m\u001b[0;34m=\u001b[0m\u001b[0;36m25\u001b[0m \u001b[0;31m#will throw an error that you can't assign an item to tuple object\u001b[0m\u001b[0;34m\u001b[0m\u001b[0;34m\u001b[0m\u001b[0m\n\u001b[0m",
            "\u001b[0;31mTypeError\u001b[0m: 'tuple' object does not support item assignment"
          ]
        }
      ]
    },
    {
      "cell_type": "code",
      "source": [
        "#6 and 7. Write a function to demonstrate the behavior of mutable and immutable arguments.\n",
        "\n",
        "l=[\"shubh\", \"city\", 12]\n",
        "def func(l): #will replace the elements of mutable argument with an asterisk(*)\n",
        "  if type(l)==str or type(l)==int or type(l)==float or type(l)==tuple:\n",
        "    print(type(l),\"is immutable, will throw an error if tried to edit:\", l)\n",
        "  if type(l)==list or type(l)==set or type(l)==dict:\n",
        "    print(type(l), \"is mutable; Original Argument:\", l)\n",
        "    for i in range(len(l)):\n",
        "      l[i]=\"*\"\n",
        "    print(\"Modified Argument:\",l)\n",
        "func(l)"
      ],
      "metadata": {
        "colab": {
          "base_uri": "https://localhost:8080/"
        },
        "id": "D2Jbg7lf0ok9",
        "outputId": "cbd93998-4905-45b3-9efe-bed66556206c"
      },
      "execution_count": null,
      "outputs": [
        {
          "output_type": "stream",
          "name": "stdout",
          "text": [
            "<class 'list'> is mutable; Original Argument: ['shubh', 'city', 12]\n",
            "Modified Argument: ['*', '*', '*']\n"
          ]
        }
      ]
    },
    {
      "cell_type": "code",
      "source": [
        "#8. Write a program to demonstrate the use of logical operators. t\n",
        "\n",
        "age=13\n",
        "if age not in list(range(14,100)):\n",
        "  print(\"You are not eligible to watch the show\")\n",
        "if age>13 and age<18:\n",
        "  print(\"Parent's discretion is required to watch the show\")\n",
        "if age==18 or age>18:\n",
        "  print(\"You can watch the show\")\n",
        "\n",
        "\n"
      ],
      "metadata": {
        "id": "envbL_Mp7k8e",
        "colab": {
          "base_uri": "https://localhost:8080/"
        },
        "outputId": "4906bb42-abd3-4c9c-b3f0-5f8aa937c9ca"
      },
      "execution_count": null,
      "outputs": [
        {
          "output_type": "stream",
          "name": "stdout",
          "text": [
            "You are not eligible to watch the show\n"
          ]
        }
      ]
    },
    {
      "cell_type": "code",
      "source": [
        "#9. Write a Python program to convert user input from string to integer, float, and boolean types.\n",
        "\n",
        "usr_input=input(\"Enter a number:\")\n",
        "print(\"Original type\", type(usr_input))\n",
        "print(\"Coverted to int\", int(usr_input))\n",
        "print(\"Converted to float\", float(usr_input))\n",
        "print(\"Converted to boolean\", bool(usr_input))\n"
      ],
      "metadata": {
        "id": "6vhQqmcNKJ8V",
        "colab": {
          "base_uri": "https://localhost:8080/"
        },
        "outputId": "e3f445d2-8319-4079-81c1-8da42a47a754"
      },
      "execution_count": null,
      "outputs": [
        {
          "output_type": "stream",
          "name": "stdout",
          "text": [
            "Enter a number:11\n",
            "Original type <class 'str'>\n",
            "Coverted to int 11\n",
            "Converted to float 11.0\n",
            "Converted to boolean True\n"
          ]
        }
      ]
    },
    {
      "cell_type": "code",
      "source": [
        "#10. Write code to demonstrate type casting with list elements.\n",
        "\n",
        "og_list=[100,\"2\",2.4,\"33\"]\n",
        "print(og_list)\n",
        "\n",
        "typecasted_int_list=[]\n",
        "\n",
        "for i in og_list:\n",
        "  print(i, type(i))\n",
        "  typecasted_int_list.append(int(i))\n",
        "\n",
        "print(typecasted_int_list)\n"
      ],
      "metadata": {
        "colab": {
          "base_uri": "https://localhost:8080/"
        },
        "id": "yH7M8oP5MPCJ",
        "outputId": "86f8b962-153a-4c11-e44a-32b3725d3ab6"
      },
      "execution_count": null,
      "outputs": [
        {
          "output_type": "stream",
          "name": "stdout",
          "text": [
            "[100, '2', 2.4, '33']\n",
            "100 <class 'int'>\n",
            "2 <class 'str'>\n",
            "2.4 <class 'float'>\n",
            "33 <class 'str'>\n",
            "[100, 2, 2, 33]\n"
          ]
        }
      ]
    },
    {
      "cell_type": "code",
      "source": [
        "#11. Write a program that checks if a number is positive, negative, or zero.\n",
        "\n",
        "num=11\n",
        "\n",
        "if num<0:\n",
        "  print(\"Negative Number\")\n",
        "elif num>0:\n",
        "  print(\"Positive Number\")\n",
        "else:\n",
        "  print(\"Zero\")"
      ],
      "metadata": {
        "colab": {
          "base_uri": "https://localhost:8080/"
        },
        "id": "EcJFDtM_OCuJ",
        "outputId": "cb8ab988-ba70-4a5f-8557-e31574825195"
      },
      "execution_count": null,
      "outputs": [
        {
          "output_type": "stream",
          "name": "stdout",
          "text": [
            "Positive Number\n"
          ]
        }
      ]
    },
    {
      "cell_type": "code",
      "source": [
        "#12. Write a for loop to print numbers from 1 to 10.\n",
        "\n",
        "for i in range(1,11):\n",
        "  print(i)\n"
      ],
      "metadata": {
        "colab": {
          "base_uri": "https://localhost:8080/"
        },
        "id": "awfp4tYKQBjs",
        "outputId": "06f09103-74f0-4915-ad81-79bf4b9ee122"
      },
      "execution_count": null,
      "outputs": [
        {
          "output_type": "stream",
          "name": "stdout",
          "text": [
            "1\n",
            "2\n",
            "3\n",
            "4\n",
            "5\n",
            "6\n",
            "7\n",
            "8\n",
            "9\n",
            "10\n"
          ]
        }
      ]
    },
    {
      "cell_type": "code",
      "source": [
        "#13. Write a Python program to find the sum of all even numbers between 1 and 50.\n",
        "\n",
        "summation=0\n",
        "for i in range(1,51):\n",
        "  if i%2==0:\n",
        "    summation+=i\n",
        "print(\"Sum of all even numbers between 1 and 50 is\",summation)"
      ],
      "metadata": {
        "colab": {
          "base_uri": "https://localhost:8080/"
        },
        "id": "N2jW58yaQdW3",
        "outputId": "93d652fa-3add-4ae1-9f87-ac5aedf3c0da"
      },
      "execution_count": null,
      "outputs": [
        {
          "output_type": "stream",
          "name": "stdout",
          "text": [
            "Sum of all even numbers between 1 and 50 is 650\n"
          ]
        }
      ]
    },
    {
      "cell_type": "code",
      "source": [
        "#14. Write a program to reverse a string using a while loop.\n",
        "\n",
        "string=\"Data_Science\"\n",
        "rev_string=\"\"\n",
        "indx=-1\n",
        "while len(rev_string)<len(string):\n",
        "  rev_string+=string[indx]\n",
        "  indx-=1\n",
        "print(rev_string)\n"
      ],
      "metadata": {
        "colab": {
          "base_uri": "https://localhost:8080/"
        },
        "id": "2wFyIwUGRh3j",
        "outputId": "ea48df99-e9c5-4271-dcbe-750812ad7588"
      },
      "execution_count": null,
      "outputs": [
        {
          "output_type": "stream",
          "name": "stdout",
          "text": [
            "ecneicS_ataD\n"
          ]
        }
      ]
    },
    {
      "cell_type": "code",
      "source": [
        "#15. Write a Python program to calculate the factorial of a number provided by the user using a while loop\n",
        "\n",
        "inpt_num=int(input(\"Enter a number:\"))\n",
        "\n",
        "if inpt_num>=0:\n",
        "  product=1\n",
        "  while inpt_num>0:\n",
        "    product*=inpt_num\n",
        "    inpt_num-=1\n",
        "  print(product)\n",
        "else:\n",
        "  print(\"Factorials don't exist for negative numbers\")\n",
        "\n",
        "\n"
      ],
      "metadata": {
        "colab": {
          "base_uri": "https://localhost:8080/"
        },
        "id": "N8mzqmylU8Sn",
        "outputId": "94e4a500-9b78-40e3-e631-efb22c8882b4"
      },
      "execution_count": null,
      "outputs": [
        {
          "output_type": "stream",
          "name": "stdout",
          "text": [
            "Enter a number:11\n",
            "39916800\n"
          ]
        }
      ]
    },
    {
      "cell_type": "code",
      "source": [],
      "metadata": {
        "id": "s6P3KR2dk7X3"
      },
      "execution_count": null,
      "outputs": []
    }
  ]
}
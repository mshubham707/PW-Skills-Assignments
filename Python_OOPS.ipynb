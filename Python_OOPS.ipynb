{
  "nbformat": 4,
  "nbformat_minor": 0,
  "metadata": {
    "colab": {
      "provenance": []
    },
    "kernelspec": {
      "name": "python3",
      "display_name": "Python 3"
    },
    "language_info": {
      "name": "python"
    }
  },
  "cells": [
    {
      "cell_type": "markdown",
      "source": [
        "**OOPS Assignment**\n",
        "\n",
        "1. What is Object-Oriented Programming (OOP)?\n",
        ">> OOP is a programming concept where classes and objects are used to store attributes and methods making a program efficient and reusable.\n",
        "\n",
        "2. What is a class in OOP?\n",
        ">> Class is a blueprint or template used to create different objects and define different attributes and methods associated with them.\n",
        "\n",
        "3. What is an object in OOP?\n",
        ">> Objects are instances of a class used to store specific data and perform actions defined by their class.\n",
        "\n",
        "4. What is the difference between abstraction and encapsulation?\n",
        ">> Abstraction in python is a concept to hide unneccessary details and showing relevant information to users. It is used by defining abstractmethod and hiding the actual methods. While encapsulation is a way to protect certain attributes and variables from users to maintain data integrity. It is used by creating private and public methods.\n",
        "\n",
        "5. What are dunder methods in Python?\n",
        ">> Dunder methods or magic methods also known as special methods are built-in methods used to perform special operations. They end and start with duble underscore hence know as dunder methods. Examples are `__init__`, `__str__`, `__call__` etc.\n",
        "\n",
        "6. Explain the concept of inheritance in OOP?\n",
        ">> Inheritance is a concept in OOP used to define relationship across classes by establishing parent and child class. The attributes and methods defined within a parent class are inherited by a child class promoting reusability of methods and attributes.\n",
        "\n",
        "7. What is polymorphism in OOP?\n",
        ">> Polymorphism means different forms. It allows same method names or operations to behave differently depending on the object using it.\n",
        "\n",
        "            class Animal:\n",
        "              def speak(self):\n",
        "               print(\"Some animal sound\")\n",
        "\n",
        "            class Dog(Animal):\n",
        "              def speak(self):\n",
        "                print(\"Bark\")\n",
        "\n",
        "            class Cat(Animal):\n",
        "                def speak(self):\n",
        "                    print(\"Meow\")\n",
        "\n",
        "        #same method but different output depending on class used\n",
        "\n",
        "\n",
        "8. How is encapsulation achieved in Python?\n",
        ">> Encapsualtion in python helps in hiding attributes defined inside a class. This is done by defining private or public attributes. It is achieved by fixing underscores at the start of an attribute name. Single underscore (`_variable_name`) means it is a protected attribute specifing that it should not be accessed directly from outside the class. While double underscore (`__variable_name` ) means it is a private attribute and can't be accessed directly from outside the class.\n",
        "\n",
        "9. What is a constructor in Python?\n",
        ">> A constructor is a special method in python used to initialize objects when they are created. It is used to pass values and making them ready for use.\n",
        "\n",
        "                #syntax of a constructor\n",
        "                def __init__(self,*args):\n",
        "\n",
        "10. What are class and static methods in Python?\n",
        ">> Class method is defined by using `@classmethod` and fixing `cls` as first parameter instead of `self` while defining the method. It can access and modify class level attributes. Static methods are defined using `@staticmethod` and doesn't require any necessaary parameter as used by class and instance method. It is used to define utility function which can't interact with class level data and mainly used as helper functions.\n",
        "\n",
        "11. What is method overloading in Python?\n",
        ">> Method overloading means defining functions with same name but different parameters in the same class. Python doesn't support true method overloading but there are way arounds to achieve it.\n",
        "\n",
        "\n",
        "          class Maths:\n",
        "\n",
        "            def add(self,a=0,b=0):\n",
        "              return sum(a,b)\n",
        "\n",
        "            def add(self,a=0,b=0,c=0):\n",
        "              return sum(a,b,c)\n",
        "            \n",
        "            def add(self,*args):\n",
        "              return sum(args)\n",
        "\n",
        "          \n",
        "\n",
        "12. What is method overriding in OOP?\n",
        ">> Method overriding refers to overriding the methods of a prent class while defining methods with similar name but modified function inside a child class.\n",
        "\n",
        "          #example of method overriding\n",
        "            class Animal:\n",
        "              def speak(self):\n",
        "               print(\"Some animal sound\")\n",
        "\n",
        "            class Dog(Animal):\n",
        "              def speak(self):\n",
        "                print(\"Bark\")\n",
        "\n",
        "\n",
        "13. What is a property decorator in Python?\n",
        ">> Property decorators in python allows you to define a method in class which can be called as an attribute. It means you don't have to close the function with parenthesis while calling it. It defined using `@property` kewyword and can bue to define setter or deleter.\n",
        "\n",
        "14. Why is polymorphism important in OOP?\n",
        ">> Polymorphism allows you to use same function differently depending on the object on which it is called. It gives flexibility and extensibility to the code without writing long codes.\n",
        "\n",
        "15. What is an abstract class in Python?\n",
        ">> Abstract classes cannot be instantiated directly but are meant to be  inherited by a child class. Thus giving common interface to subclass and methods which they have to implemet maintiang uniformity across the class objects.\n",
        "\n",
        "16. What are the advantages of OOP?\n",
        ">> There are several advantages of OOP. It can help create different classe with similar undelrying attrbutes and methods while at the same time maintaining flexibiltiy or extensibility by allowing to override the methods of the inherited class. It helps in organizing large code under a common class and making it resuable for further requirements. It also helps in encapsulation meaning can help in protecting the state or data of a class maintaing data integrity.\n",
        "\n",
        "17. What is the difference between a class variable and an instance variable?\n",
        ">> Instance variable are defined by fixing `self` as first parameter while defining them. These methods are defined for the particular objects. While class methods are defined for entire class and can't be instantiated. These varaible defined under this method share same data across different ojects until overwridden.\n",
        "\n",
        "18. What is multiple inheritance in Python?\n",
        ">> Mutliple inheritance allows same child class to inherit from more than one parent class. Similar methods will be overriden by the first parent class specified in the parameter. This helps in taking data from mutliple classes and reusing it.\n",
        "\n",
        "19. Explain the purpose of `__str__` and `__repr__`  methods in Python?\n",
        ">> `__str__` and `__repr__` both are special methods in python used to represent string data. `__str__` provide a human readable form of string which can be accessed using `print()`. While `__repr__` is used to return a more technical or formal string representation of an object. It is ideally used for developers.\n",
        "\n",
        "20. What is the significance of the `super()` function in Python?\n",
        ">> `super()` function is used in python to as it is inherit parent attributes and methods without defining same constructor and methods for the child class.\n",
        "\n",
        "21. What is the significance of the `__del__` method in Python?\n",
        ">> `__del__' method  also known as destructor is used to delete any object and its attributes.\n",
        "\n",
        "22. What is the difference between `@staticmethod` and `@classmethod` in Python?\n",
        ">> Class method is defined by using `@classmethod` and fixing `cls` as first parameter instead of `self` while defining the method. It can access and modify class level attributes. Static methods are defined using `@staticmethod` and doesn't require any necessaary parameter as used by class and instance method. It is used to define utility function which can't interact with class level data and mainly used as helper functions.\n",
        "\n",
        "23. How does polymorphism work in Python with inheritance?\n",
        ">> Polymoprhism refers to using same method but allowing it to behave differently depending on the instance. It is used to inherit or override parent methods during inheritance.\n",
        "\n",
        "                    class Animal:\n",
        "                        def speak(self):\n",
        "                            return \"Some sound\"\n",
        "\n",
        "                    class Dog(Animal):\n",
        "                        def speak(self):\n",
        "                            return \"Woof!\"\n",
        "\n",
        "                    class Cat(Animal):\n",
        "                        def speak(self):\n",
        "                            return \"Meow!\"\n",
        "Even though `speak()` is used in all class but it will be implemented differenty for each class.\n",
        "\n",
        "24. What is method chaining in Python OOP?\n",
        ">>  Method chaining means when mutliple methods are called sequentially on same object.\n",
        "\n",
        "            #syntax\n",
        "            object.method1().method2().method3()\n",
        "\n",
        "25. What is the purpose of the `__call__` method in Python?\n",
        ">> `__call__` method is used to make object callable like a function. These are generally used as decorators.\n",
        "\n",
        "           class Greet():\n",
        "            def __init__(self,name):\n",
        "              self.name=name\n",
        "            \n",
        "            def __call__(self):\n",
        "              print(f\"Hey {self.name}\")\n",
        "\n",
        "          h=Greet(\"Shivam\")\n",
        "          h() #output: Hey Shivam"
      ],
      "metadata": {
        "id": "iUSL-q2wZu1h"
      }
    },
    {
      "cell_type": "code",
      "source": [
        "#1. Create a parent class Animal with a method speak() that prints a generic message. Create a child class Dog that overrides the speak() method to print \"Bark!\n",
        "\n",
        "class Animal:\n",
        "  def speak(self):\n",
        "    print(\"This is an Animal Sound\")\n",
        "\n",
        "class Dog(Animal):\n",
        "  def speak(self):\n",
        "    print(\"Bark\")\n",
        "\n",
        "a=Animal()\n",
        "a.speak()\n",
        "d=Dog()\n",
        "d.speak()"
      ],
      "metadata": {
        "colab": {
          "base_uri": "https://localhost:8080/"
        },
        "id": "eSfazVn7Z-Ks",
        "outputId": "5cfc4180-7542-4c2f-d8ee-8778e23939a9"
      },
      "execution_count": null,
      "outputs": [
        {
          "output_type": "stream",
          "name": "stdout",
          "text": [
            "This is an Animal Sound\n",
            "Bark\n"
          ]
        }
      ]
    },
    {
      "cell_type": "code",
      "source": [
        "#2. Write a program to create an abstract class Shape with a method area(). Derive classes Circle and Rectangle from it and implement the area() method in both.\n",
        "\n",
        "from abc import ABC, abstractmethod\n",
        "\n",
        "class Shape(ABC):\n",
        "  @abstractmethod\n",
        "  def area(self):\n",
        "    pass\n",
        "\n",
        "class Circle(Shape):\n",
        "  def area(self, radius):\n",
        "    return 3.14*radius*radius\n",
        "\n",
        "class Rectangle(Shape):\n",
        "  def area(self, length, breadth):\n",
        "    return length*breadth\n",
        "\n",
        "c=Circle()\n",
        "print(c.area(10))\n",
        "r=Rectangle()\n",
        "print(r.area(10,30))"
      ],
      "metadata": {
        "colab": {
          "base_uri": "https://localhost:8080/"
        },
        "id": "lK9nL7MkZ-eq",
        "outputId": "8441bfe2-3c4e-41b3-d35c-7d23d9e3d296"
      },
      "execution_count": null,
      "outputs": [
        {
          "output_type": "stream",
          "name": "stdout",
          "text": [
            "314.0\n",
            "300\n"
          ]
        }
      ]
    },
    {
      "cell_type": "code",
      "source": [
        "#3. Implement a multi-level inheritance scenario where a class Vehicle has an attribute type. Derive a class Car and further derive a class ElectricCar that adds a battery attribute\n",
        "\n",
        "class Vehicle:\n",
        "\n",
        "  def __init__(self, type):\n",
        "    self.type=type\n",
        "\n",
        "class Car(Vehicle):\n",
        "\n",
        "  def __init__(self,type,brand):\n",
        "    super().__init__(type)\n",
        "    self.brand=brand\n",
        "\n",
        "class ElectricCar(Car):\n",
        "\n",
        "  def __init__(self,type,brand,battery):\n",
        "    super().__init__(type,brand)\n",
        "    self.battery=battery\n",
        "\n",
        "v=Vehicle(\"Four Wheeler\")\n",
        "c=Car(\"Four Wheeler\", \"Toyota\")\n",
        "e=ElectricCar(\"Four Wheeler\", \"Kia\",\"100 kWh\")\n",
        "print(v.type)\n",
        "print(e.battery)\n",
        "print(c.brand)\n",
        "\n"
      ],
      "metadata": {
        "colab": {
          "base_uri": "https://localhost:8080/"
        },
        "id": "AJgec6-jZ-hu",
        "outputId": "dd5cd1f8-6a6f-453c-a0e3-33507bb11572"
      },
      "execution_count": null,
      "outputs": [
        {
          "output_type": "stream",
          "name": "stdout",
          "text": [
            "Four Wheeler\n",
            "100 kWh\n",
            "Toyota\n"
          ]
        }
      ]
    },
    {
      "cell_type": "code",
      "source": [
        "#4.  Demonstrate polymorphism by creating a base class Bird with a method fly(). Create two derived classes Sparrow and Penguin that override the fly() method.\n",
        "\n",
        "class Bird:\n",
        "\n",
        "  def fly(self):\n",
        "    return \"Birds can fly\"\n",
        "\n",
        "class Sparrow(Bird):\n",
        "\n",
        "  def fly(self):\n",
        "    return \"Sparrows can fly\"\n",
        "\n",
        "class Penguin(Bird):\n",
        "\n",
        "  def fly(self):\n",
        "    return \"Penguins can't fly\"\n",
        "\n",
        "\n",
        "b=Bird()\n",
        "print(b.fly())\n",
        "s=Sparrow()\n",
        "print(s.fly())\n",
        "p=Penguin()\n",
        "print(p.fly())\n"
      ],
      "metadata": {
        "colab": {
          "base_uri": "https://localhost:8080/"
        },
        "id": "b2-DJpgkZ-lS",
        "outputId": "a9e5fd2b-8480-4cf6-db8c-c720dd628c39"
      },
      "execution_count": null,
      "outputs": [
        {
          "output_type": "stream",
          "name": "stdout",
          "text": [
            "Birds can fly\n",
            "Sparrows can fly\n",
            "Penguins can't fly\n"
          ]
        }
      ]
    },
    {
      "cell_type": "code",
      "source": [
        "#5. Write a program to demonstrate encapsulation by creating a class BankAccount with private attributes balance and methods to deposit, withdraw, and check balance.\n",
        "\n",
        "class BankAccount:\n",
        "\n",
        "  def __init__(self, bal):\n",
        "    self.__balance=bal\n",
        "\n",
        "  def check_balance(self):\n",
        "    return f\"Your current balance is {self.__balance}\"\n",
        "\n",
        "  def deposit(self,amount):\n",
        "    self.__balance+=amount\n",
        "    print(\"Amount Deposited Successfully!\")\n",
        "\n",
        "  def withdraw(self,amount):\n",
        "    if self.__balance>amount:\n",
        "      self.__balance-=amount\n",
        "      print(\"Amount Withdrawn Successfully\")\n",
        "    else:\n",
        "      print(\"Insufficient Balance!\")\n",
        "\n",
        "\n",
        "sm=BankAccount(10000)\n",
        "#sm.__balance will throw an error as it is a private attribute and can't be accessed directly\n",
        "print(sm.check_balance())\n",
        "sm.deposit(1000)\n",
        "print(sm.check_balance())\n",
        "sm.withdraw(2000)\n",
        "print(sm.check_balance())\n",
        "sm.withdraw(10000)\n",
        "\n",
        "\n",
        "\n"
      ],
      "metadata": {
        "colab": {
          "base_uri": "https://localhost:8080/"
        },
        "id": "v1KG6ZRkgep-",
        "outputId": "b6d7a342-ccaf-4a2a-8c41-bc21c496494a"
      },
      "execution_count": null,
      "outputs": [
        {
          "output_type": "stream",
          "name": "stdout",
          "text": [
            "Your current balance is 10000\n",
            "Amount Deposited Successfully!\n",
            "Your current balance is 11000\n",
            "Amount Withdrawn Successfully\n",
            "Your current balance is 9000\n",
            "Insufficient Balance!\n"
          ]
        }
      ]
    },
    {
      "cell_type": "code",
      "source": [
        "#6.  Demonstrate runtime polymorphism using a method play() in a base class Instrument. Derive classes Guitar and Piano that implement their own version of play().\n",
        "\n",
        "class Instrument:\n",
        "  def play(self):\n",
        "    print(\"Playing the instrument\")\n",
        "\n",
        "class Guitar(Instrument):\n",
        "  def play(self):\n",
        "    print(\"Playing the Guitar\")\n",
        "\n",
        "class Piano(Instrument):\n",
        "  def play(self):\n",
        "    print(\"Playing the Piano\")\n",
        "\n",
        "def playing_instr(instr):\n",
        "  return instr.play()\n",
        "\n",
        "i=Instrument()\n",
        "g=Guitar()\n",
        "p=Piano()\n",
        "\n",
        "playing_instr(i)\n",
        "playing_instr(g)\n",
        "playing_instr(p)\n"
      ],
      "metadata": {
        "colab": {
          "base_uri": "https://localhost:8080/"
        },
        "id": "gTb5Vnq-heTP",
        "outputId": "d1836e36-28b7-4e2b-a3aa-a25d81d2bcfb"
      },
      "execution_count": null,
      "outputs": [
        {
          "output_type": "stream",
          "name": "stdout",
          "text": [
            "Playing the instrument\n",
            "Playing the Guitar\n",
            "Playing the Piano\n"
          ]
        }
      ]
    },
    {
      "cell_type": "code",
      "source": [
        "#7. Create a class MathOperations with a class method add_numbers() to add two numbers and a static method subtract_numbers() to subtract two numbers.\n",
        "\n",
        "class MathOperations:\n",
        "\n",
        "  @classmethod\n",
        "  def add_numbers(cls,a,b):\n",
        "    return a + b\n",
        "\n",
        "  @staticmethod\n",
        "  def subtract_numbers(a, b):\n",
        "    return a - b\n",
        "\n",
        "print(MathOperations.add_numbers(10,30))\n",
        "print(MathOperations.subtract_numbers(20,10))\n"
      ],
      "metadata": {
        "colab": {
          "base_uri": "https://localhost:8080/"
        },
        "id": "Ij-3y6Atq-FJ",
        "outputId": "8234fe56-a103-4e1b-94c3-a09cbd8825ef"
      },
      "execution_count": null,
      "outputs": [
        {
          "output_type": "stream",
          "name": "stdout",
          "text": [
            "40\n",
            "10\n"
          ]
        }
      ]
    },
    {
      "cell_type": "code",
      "source": [
        "#8.  Implement a class Person with a class method to count the total number of persons created.\n",
        "\n",
        "class Person:\n",
        "  person_count=0\n",
        "  def __init__(self,name):\n",
        "    self.name=name\n",
        "    Person.person_count+=1\n",
        "\n",
        "  @classmethod\n",
        "  def get_count(cls):\n",
        "    return cls.person_count\n",
        "\n",
        "a=Person(\"Aman\")\n",
        "b=Person(\"Shubham\")\n",
        "c=Person(\"Shiwangi\")\n",
        "Person.get_count()"
      ],
      "metadata": {
        "colab": {
          "base_uri": "https://localhost:8080/"
        },
        "id": "IS-EkPHTws0u",
        "outputId": "fb374210-cf5c-4272-847b-f34b4c6c58e7"
      },
      "execution_count": null,
      "outputs": [
        {
          "output_type": "execute_result",
          "data": {
            "text/plain": [
              "3"
            ]
          },
          "metadata": {},
          "execution_count": 96
        }
      ]
    },
    {
      "cell_type": "code",
      "source": [
        "#9. Write a class Fraction with attributes numerator and denominator. Override the str method to display the fraction as \"numerator/denominator\".\n",
        "\n",
        "class Fraction:\n",
        "  def __init__(self,num,den):\n",
        "    self.numerator=num\n",
        "    self.denominator=den\n",
        "  def __str__(self):\n",
        "    return f\"{self.numerator}/{self.denominator}\"\n",
        "\n",
        "f=Fraction(30,40)\n",
        "print(f)\n"
      ],
      "metadata": {
        "colab": {
          "base_uri": "https://localhost:8080/"
        },
        "id": "NhUeXiPIzsI1",
        "outputId": "6bda35d4-12f0-460b-eff4-e26f05d368ca"
      },
      "execution_count": null,
      "outputs": [
        {
          "output_type": "stream",
          "name": "stdout",
          "text": [
            "30/40\n"
          ]
        }
      ]
    },
    {
      "cell_type": "code",
      "source": [
        "#10. Demonstrate operator overloading by creating a class Vector and overriding the add method to add two vectors.\n",
        "\n",
        "class Vector:\n",
        "\n",
        "  def __init__(self,x):\n",
        "    self.x=x\n",
        "\n",
        "  def __add__(self,other):\n",
        "    return self.x + other.x\n",
        "\n",
        "\n",
        "\n",
        "\n",
        "v1=Vector(3)\n",
        "v2=Vector(2)\n",
        "\n",
        "v1+v2\n"
      ],
      "metadata": {
        "colab": {
          "base_uri": "https://localhost:8080/"
        },
        "id": "hOOOsMVDzwX5",
        "outputId": "066073b8-151e-497d-a628-bb9a19392f05"
      },
      "execution_count": null,
      "outputs": [
        {
          "output_type": "execute_result",
          "data": {
            "text/plain": [
              "5"
            ]
          },
          "metadata": {},
          "execution_count": 110
        }
      ]
    },
    {
      "cell_type": "code",
      "source": [
        "#11. Create a class Person with attributes name and age. Add a method greet() that prints \"Hello, my name is {name} and I am {age} years old.\"\n",
        "\n",
        "class Person:\n",
        "\n",
        "  def __init__(self,name,age):\n",
        "    self.name=name\n",
        "    self.age=age\n",
        "\n",
        "  def greet(self):\n",
        "    print(f\"Hello, my name is {self.name} and I am {self.age} years old.\")\n",
        "\n",
        "p=Person(\"Sohit\",24)\n",
        "p.greet()\n"
      ],
      "metadata": {
        "colab": {
          "base_uri": "https://localhost:8080/"
        },
        "id": "U-gxEcv646ed",
        "outputId": "778d8264-d8e9-4e94-a59a-7f66c25ddc5f"
      },
      "execution_count": null,
      "outputs": [
        {
          "output_type": "stream",
          "name": "stdout",
          "text": [
            "Hello, my name is Sohit and I am 24 years old.\n"
          ]
        }
      ]
    },
    {
      "cell_type": "code",
      "source": [
        "#12. Implement a class Student with attributes name and grades. Create a method average_grade() to compute the average of the grades\n",
        "\n",
        "class Student:\n",
        "\n",
        "  def __init__(self,name,*grades):\n",
        "    self.name=name\n",
        "    self.grade=grades\n",
        "\n",
        "  def average_grade(self):\n",
        "    count=len(self.grade)\n",
        "    return sum(self.grade)/count if count>0 else 0\n",
        "\n",
        "s=Student(\"Shubham\",10,20,30)\n",
        "\n",
        "s.average_grade()"
      ],
      "metadata": {
        "colab": {
          "base_uri": "https://localhost:8080/"
        },
        "id": "zKJjXBcY9ed8",
        "outputId": "f3dd71ff-4bed-48a6-f423-05c96073141e"
      },
      "execution_count": null,
      "outputs": [
        {
          "output_type": "execute_result",
          "data": {
            "text/plain": [
              "20.0"
            ]
          },
          "metadata": {},
          "execution_count": 123
        }
      ]
    },
    {
      "cell_type": "code",
      "source": [
        "#13.  Create a class Rectangle with methods set_dimensions() to set the dimensions and area() to calculate the area\n",
        "\n",
        "class Rectangle:\n",
        "\n",
        "  def __init__(self,l=0,b=0):\n",
        "    self.l=l\n",
        "    self.b=b\n",
        "\n",
        "  def set_dimensions(self,dim1,dim2):\n",
        "    self.l=dim1\n",
        "    self.b=dim2\n",
        "\n",
        "  def area(self):\n",
        "    return self.l*self.b\n",
        "\n",
        "r=Rectangle()\n",
        "r.set_dimensions(10,4)\n",
        "print(r.area())\n",
        "\n",
        "\n"
      ],
      "metadata": {
        "colab": {
          "base_uri": "https://localhost:8080/"
        },
        "id": "VaPQWk1n-Gpb",
        "outputId": "0992391d-2296-479f-abc0-7ce3f66fe8e9"
      },
      "execution_count": null,
      "outputs": [
        {
          "output_type": "stream",
          "name": "stdout",
          "text": [
            "40\n"
          ]
        }
      ]
    },
    {
      "cell_type": "code",
      "source": [
        "#14. Create a class Employee with a method calculate_salary() that computes the salary based on hours worked and hourly rate. Create a derived class Manager that adds a bonus to the salary\n",
        "\n",
        "class Employee:\n",
        "\n",
        "  def __init__(self, rate):\n",
        "    self.hours=200\n",
        "    self.rate=rate\n",
        "  def salary(self):\n",
        "    return self.hours*self.rate\n",
        "\n",
        "class Manager(Employee):\n",
        "\n",
        "  def __init__(self,rate,bonus):\n",
        "    super().__init__(rate)\n",
        "    self.bonus=bonus\n",
        "\n",
        "  def salary(self):\n",
        "    return self.hours*self.rate + self.bonus\n",
        "\n",
        "\n",
        "e=Employee(150)\n",
        "print(\"Employee's Salary:\", e.salary())\n",
        "m=Manager(500,10000)\n",
        "print(\"Manager's Salary:\",m.salary())\n"
      ],
      "metadata": {
        "colab": {
          "base_uri": "https://localhost:8080/"
        },
        "id": "VK2uh3ey-Ihn",
        "outputId": "55c3eacf-2a86-4569-bb5f-07b4e8ec7ecb"
      },
      "execution_count": null,
      "outputs": [
        {
          "output_type": "stream",
          "name": "stdout",
          "text": [
            "Employee's Salary: 30000\n",
            "Manager's Salary: 110000\n"
          ]
        }
      ]
    },
    {
      "cell_type": "code",
      "source": [
        "#15. Create a class Product with attributes name, price, and quantity. Implement a method total_price() that calculates the total price of the product.\n",
        "\n",
        "class Product:\n",
        "\n",
        "  def __init__(self,name,price,quantity):\n",
        "    self.name=name\n",
        "    self.price=price\n",
        "    self.quantity=quantity\n",
        "\n",
        "  def total_price(self):\n",
        "    return self.price*self.quantity\n",
        "\n",
        "p1=Product(\"Apple\", 100,3)\n",
        "print(p1.total_price())\n",
        "\n"
      ],
      "metadata": {
        "colab": {
          "base_uri": "https://localhost:8080/"
        },
        "id": "so8KDOI0C-lF",
        "outputId": "509cdb7f-41c1-4e7e-d42d-ed6c0d59078b"
      },
      "execution_count": null,
      "outputs": [
        {
          "output_type": "stream",
          "name": "stdout",
          "text": [
            "300\n"
          ]
        }
      ]
    },
    {
      "cell_type": "code",
      "source": [
        "#16. Create a class Animal with an abstract method sound(). Create two derived classes Cow and Sheep that implement the sound() method\n",
        "from abc import ABC, abstractmethod\n",
        "\n",
        "class Animal(ABC):\n",
        "\n",
        "  @abstractmethod\n",
        "  def sound(self):\n",
        "    pass\n",
        "\n",
        "class Sheep(Animal):\n",
        "\n",
        "  def sound(self):\n",
        "    return \"baa baa\"\n",
        "\n",
        "class Cow(Animal):\n",
        "\n",
        "  def sound(self):\n",
        "    return \"moo\"\n",
        "\n",
        "s=Sheep()\n",
        "print(s.sound())\n",
        "c=Cow()\n",
        "print(c.sound())"
      ],
      "metadata": {
        "colab": {
          "base_uri": "https://localhost:8080/"
        },
        "id": "k9_YVRDPDiRd",
        "outputId": "80e30c9b-75d0-4ed3-97b9-9d49f25d32fd"
      },
      "execution_count": null,
      "outputs": [
        {
          "output_type": "stream",
          "name": "stdout",
          "text": [
            "baa baa\n",
            "moo\n"
          ]
        }
      ]
    },
    {
      "cell_type": "code",
      "source": [
        "#17. Create a class Book with attributes title, author, and year_published. Add a method get_book_info() that returns a formatted string with the book's details.\n",
        "\n",
        "class Book:\n",
        "\n",
        "  def __init__(self,title,author, year_published):\n",
        "    self.title=title\n",
        "    self.author=author\n",
        "    self.year_published=year_published\n",
        "\n",
        "  def get_book_info(self):\n",
        "    return f\"Book Title: {self.title}\\nAuthor: {self.author}\\nYear Published: {self.year_published}\"\n",
        "\n",
        "b=Book(\"1984\",\"George Orwell\", 1949)\n",
        "\n",
        "print(b.get_book_info())"
      ],
      "metadata": {
        "colab": {
          "base_uri": "https://localhost:8080/"
        },
        "id": "RmjkqUxNHFUZ",
        "outputId": "8564b05e-06bf-4070-f8f0-a1e9974d583c"
      },
      "execution_count": null,
      "outputs": [
        {
          "output_type": "stream",
          "name": "stdout",
          "text": [
            "Book Title: 1984\n",
            "Author: George Orwell\n",
            "Year Published: 1949\n"
          ]
        }
      ]
    },
    {
      "cell_type": "code",
      "source": [
        "#18. Create a class House with attributes address and price. Create a derived class Mansion that adds an attribute number_of_rooms.\n",
        "\n",
        "class House:\n",
        "  def __init__(self,address,price):\n",
        "    self.address=address\n",
        "    self.price=price\n",
        "\n",
        "  def house_details(self):\n",
        "    return f\"Address: {self.address}, Price: {self.price}\"\n",
        "\n",
        "class Mansion(House):\n",
        "  def __init__(self,address,price,number_of_rooms):\n",
        "    super().__init__(address,price)\n",
        "    self.number_of_rooms=number_of_rooms\n",
        "\n",
        "  def house_details(self):\n",
        "    return f\"Address: {self.address}\\nPrice: {self.price}\\nNumber of rooms: {self.number_of_rooms}\"\n",
        "\n",
        "m=Mansion(\"A31, SY colony, Delhi 25\",\"20 Crores\", 5)\n",
        "\n",
        "print(m.house_details())\n",
        "\n"
      ],
      "metadata": {
        "colab": {
          "base_uri": "https://localhost:8080/"
        },
        "id": "bo3e70LdJQva",
        "outputId": "0e3d59ec-c108-4851-b906-a5b5fc7086ba"
      },
      "execution_count": null,
      "outputs": [
        {
          "output_type": "stream",
          "name": "stdout",
          "text": [
            "Address: A31, SY colony, Delhi 25\n",
            "Price: 20 Crores\n",
            "Number of rooms: 5\n"
          ]
        }
      ]
    },
    {
      "cell_type": "code",
      "source": [],
      "metadata": {
        "id": "8Jryi2ChLPHy"
      },
      "execution_count": null,
      "outputs": []
    }
  ]
}
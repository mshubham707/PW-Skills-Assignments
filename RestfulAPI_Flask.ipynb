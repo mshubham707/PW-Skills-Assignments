{
  "nbformat": 4,
  "nbformat_minor": 0,
  "metadata": {
    "colab": {
      "provenance": []
    },
    "kernelspec": {
      "name": "python3",
      "display_name": "Python 3"
    },
    "language_info": {
      "name": "python"
    }
  },
  "cells": [
    {
      "cell_type": "markdown",
      "source": [
        "**Restful API and Flask**\n",
        "\n",
        "**Q1. What is a RESTful API?**\n",
        ">> A RESTful API (Representational State Transfer) is a web service that uses HTTP methods and follows REST architecture principles to enable interaction between client and server.\n",
        "\n",
        "**Q2. Explain the concept of API specification?**\n",
        ">> An API specification outlines the expected inputs, outputs, endpoints, data formats, and behaviors of an API, serving as a contract for implementation and integration.\n",
        "\n",
        "**Q3. What is Flask, and why is it popular for building APIs?**\n",
        ">> Flask is a lightweight Python web framework. It's popular for APIs due to its simplicity, flexibility, and minimal setup required to create powerful web applications.\n",
        "\n",
        "**Q4. What is routing in Flask?**\n",
        ">> Routing in Flask refers to the process of defining URL paths in your app and mapping them to specific functions that handle those routes.\n",
        "\n",
        "**Q5. How do you create a simple Flask application?**\n",
        ">> Below code can be used to create a simple flask application:\n",
        "\n",
        "      from flask import Flask\n",
        "      app = Flask(__name__)\n",
        "\n",
        "      @app.route('/')\n",
        "      def home():\n",
        "          return \"Hello, Flask!\"\n",
        "\n",
        "      if __name__ == '__main__':\n",
        "          app.run(debug=True)\n",
        "\n",
        "**Q6. What are HTTP methods used in RESTful APIs?**\n",
        ">> HTTP methods in RESTful APIs include GET, POST, PUT, DELETE, PATCH, and others, each corresponding to a CRUD operation.\n",
        "\n",
        "**Q7. What is the purpose of the @app.route() decorator in Flask?**\n",
        ">> @app.route() decorates a function to associate it with a URL endpoint, enabling Flask to trigger that function when the URL is accessed.\n",
        "\n",
        "**Q8. What is the difference between GET and POST HTTP methods?**\n",
        ">> GET retrieves data without changing the server state, while POST sends data to the server, often resulting in a change (e.g., creating a resource).\n",
        "\n",
        "**Q9. How do you handle errors in Flask APIs?**\n",
        ">> Errors can be handled in Flask using error handlers (e.g., @app.errorhandler(404)) or using try-except blocks to manage exceptions gracefully.\n",
        "\n",
        "**Q10. How do you connect Flask to a SQL database?**\n",
        ">> Flask can be connected to a SQL database using libraries like Flask-SQLAlchemy or using raw connectors such as SQLite or MySQL clients.\n",
        "\n",
        "**Q11. What is the role of Flask-SQLAlchemy?**\n",
        ">> Flask-SQLAlchemy is an ORM extension that simplifies database interactions by mapping Python classes to database tables.\n",
        "\n",
        "**Q12. What are Flask blueprints, and how are they useful?**\n",
        ">> Blueprints help modularize a Flask app by grouping related views and routes, making large applications more manageable.\n",
        "\n",
        "**Q13. What is the purpose of Flask's request object?**\n",
        ">> The request object in Flask gives access to incoming request data like form inputs, JSON payloads, headers, and more.\n",
        "\n",
        "**Q14. How do you create a RESTful API endpoint using Flask?**\n",
        ">> Below code can be used to create RESTful API endpoint:\n",
        "\n",
        "    from flask import Flask, jsonify\n",
        "    app = Flask(__name__)\n",
        "\n",
        "    @app.route('/api/data', methods=['GET'])\n",
        "    def get_data():\n",
        "        data = {\"message\": \"This is a RESTful API endpoint\"}\n",
        "        return jsonify(data)\n",
        "\n",
        "    if __name__ == '__main__':\n",
        "        app.run(debug=True)\n",
        "\n",
        "**Q15. What is the purpose of Flask's jsonify() function?**\n",
        ">> jsonify() converts Python dictionaries or lists into JSON responses, setting the appropriate content-type headers.\n",
        "\n",
        "**Q16. Explain Flask’s url_for() function?**\n",
        ">> url_for() dynamically builds URLs for Flask routes, making applications more robust to changes in route definitions.\n",
        "\n",
        "**Q17. How does Flask handle static files (CSS, JavaScript, etc.)?**\n",
        ">> Flask serves static files using the 'static' folder. You can access files via /static/<filename>.\n",
        "\n",
        "**Q18. What is an API specification, and how does it help in building a Flask API?**\n",
        ">> API specifications help define the contract between client and server, improving clarity, collaboration, and consistency during development.\n",
        "\n",
        "**Q19. What are HTTP status codes, and why are they important in a Flask API?**\n",
        ">> HTTP status codes (e.g., 200, 404, 500) indicate the result of an HTTP request, helping clients understand success or failure.\n",
        "\n",
        "**Q20. How would you secure a Flask API?**\n",
        ">> Security in Flask APIs can be achieved via authentication, authorization, HTTPS, and input validation.\n",
        "\n",
        "**Q21. What is the significance of the Flask-RESTful extension?**\n",
        ">> Flask-RESTful simplifies API development by adding support for class-based views, request parsing, and standardized error handling.\n",
        "\n",
        "**Q22. What is the role of Flask’s session object??**\n",
        ">> Flask's session object allows storing data across requests for a user (e.g., login state), using cookies on the client side."
      ],
      "metadata": {
        "id": "eVnpH55qbxH2"
      }
    },
    {
      "cell_type": "markdown",
      "source": [],
      "metadata": {
        "id": "ntALgC0vhaIl"
      }
    },
    {
      "cell_type": "code",
      "source": [
        "# Q1. How do you create a basic Flask application?\n",
        "from flask import Flask\n",
        "app = Flask(__name__)\n",
        "\n",
        "@app.route('/')\n",
        "def index():\n",
        "    return \"Welcome to the basic Flask app!\"\n",
        "\n",
        "if __name__ == '__main__':\n",
        "    app.run()"
      ],
      "metadata": {
        "colab": {
          "base_uri": "https://localhost:8080/"
        },
        "id": "unG4TuhbfcBM",
        "outputId": "77c07172-0965-49a1-cbf7-5d8bc87342ae"
      },
      "execution_count": 2,
      "outputs": [
        {
          "output_type": "stream",
          "name": "stdout",
          "text": [
            " * Serving Flask app '__main__'\n",
            " * Debug mode: off\n"
          ]
        },
        {
          "output_type": "stream",
          "name": "stderr",
          "text": [
            "INFO:werkzeug:\u001b[31m\u001b[1mWARNING: This is a development server. Do not use it in a production deployment. Use a production WSGI server instead.\u001b[0m\n",
            " * Running on http://127.0.0.1:5000\n",
            "INFO:werkzeug:\u001b[33mPress CTRL+C to quit\u001b[0m\n"
          ]
        }
      ]
    },
    {
      "cell_type": "code",
      "source": [
        "# Q2. How do you serve static files like images or CSS in Flask?\n",
        "from flask import Flask, send_from_directory\n",
        "import os\n",
        "\n",
        "app = Flask(__name__)\n",
        "app.config['STATIC_FOLDER'] = 'static'\n",
        "\n",
        "@app.route('/static/<path:filename>')\n",
        "def serve_static(filename):\n",
        "    return send_from_directory(app.config['STATIC_FOLDER'], filename)\n",
        "\n",
        "if __name__ == '__main__':\n",
        "    app.run(debug=True)"
      ],
      "metadata": {
        "colab": {
          "base_uri": "https://localhost:8080/",
          "height": 228
        },
        "id": "Ehl-ciXufkux",
        "outputId": "70b3d6f5-fd2d-4cfe-bd39-4e31f90b888b"
      },
      "execution_count": 3,
      "outputs": [
        {
          "output_type": "stream",
          "name": "stdout",
          "text": [
            " * Serving Flask app '__main__'\n",
            " * Debug mode: on\n"
          ]
        },
        {
          "output_type": "stream",
          "name": "stderr",
          "text": [
            "INFO:werkzeug:\u001b[31m\u001b[1mWARNING: This is a development server. Do not use it in a production deployment. Use a production WSGI server instead.\u001b[0m\n",
            " * Running on http://127.0.0.1:5000\n",
            "INFO:werkzeug:\u001b[33mPress CTRL+C to quit\u001b[0m\n",
            "INFO:werkzeug: * Restarting with stat\n"
          ]
        },
        {
          "output_type": "error",
          "ename": "SystemExit",
          "evalue": "-15",
          "traceback": [
            "An exception has occurred, use %tb to see the full traceback.\n",
            "\u001b[0;31mSystemExit\u001b[0m\u001b[0;31m:\u001b[0m -15\n"
          ]
        },
        {
          "output_type": "stream",
          "name": "stderr",
          "text": [
            "/usr/local/lib/python3.11/dist-packages/IPython/core/interactiveshell.py:3561: UserWarning: To exit: use 'exit', 'quit', or Ctrl-D.\n",
            "  warn(\"To exit: use 'exit', 'quit', or Ctrl-D.\", stacklevel=1)\n"
          ]
        }
      ]
    },
    {
      "cell_type": "code",
      "source": [
        "# Q3. How do you define different routes with different HTTP methods in Flask?\n",
        "from flask import Flask, request, jsonify\n",
        "app = Flask(__name__)\n",
        "\n",
        "@app.route('/items', methods=['GET'])\n",
        "def get_items():\n",
        "    return jsonify({\"action\": \"GET all items\"})\n",
        "\n",
        "@app.route('/items', methods=['POST'])\n",
        "def create_item():\n",
        "    return jsonify({\"action\": \"POST new item\"}), 201\n",
        "\n",
        "if __name__ == '__main__':\n",
        "    app.run(debug=True)"
      ],
      "metadata": {
        "id": "TCOTttKifnSx"
      },
      "execution_count": null,
      "outputs": []
    },
    {
      "cell_type": "code",
      "source": [
        "# Q4. How do you render HTML templates in Flask?\n",
        "from flask import Flask, render_template\n",
        "app = Flask(__name__)\n",
        "\n",
        "@app.route('/')\n",
        "def home():\n",
        "    return render_template('index.html')\n",
        "\n",
        "if __name__ == '__main__':\n",
        "    app.run(debug=True)"
      ],
      "metadata": {
        "id": "43xvZ7F3fsTk"
      },
      "execution_count": null,
      "outputs": []
    },
    {
      "cell_type": "code",
      "source": [
        "# Q5. How can you generate URLs for routes in Flask using url_for?\n",
        "from flask import Flask, url_for\n",
        "app = Flask(__name__)\n",
        "\n",
        "@app.route('/')\n",
        "def home():\n",
        "    return f\"The URL for the about page is: {url_for('about')}\"\n",
        "\n",
        "@app.route('/about')\n",
        "def about():\n",
        "    return \"About page\"\n",
        "\n",
        "if __name__ == '__main__':\n",
        "    app.run(debug=True)"
      ],
      "metadata": {
        "id": "0RQXZptVfsQD"
      },
      "execution_count": null,
      "outputs": []
    },
    {
      "cell_type": "code",
      "source": [
        "# Q6. How do you handle forms in Flask?\n",
        "from flask import Flask, request, render_template\n",
        "app = Flask(__name__)\n",
        "\n",
        "@app.route('/form', methods=['GET', 'POST'])\n",
        "def handle_form():\n",
        "    if request.method == 'POST':\n",
        "        name = request.form.get('name')\n",
        "        return f\"Hello, {name}!\"\n",
        "    return render_template('form.html')\n",
        "\n",
        "if __name__ == '__main__':\n",
        "    app.run(debug=True)\n"
      ],
      "metadata": {
        "id": "LTvkI2TqfsMw"
      },
      "execution_count": null,
      "outputs": []
    },
    {
      "cell_type": "code",
      "source": [
        "# Q7. How can you validate form data in Flask?\n",
        "from flask import Flask, request, jsonify\n",
        "app = Flask(__name__)\n",
        "\n",
        "@app.route('/validate', methods=['POST'])\n",
        "def validate_form():\n",
        "    data = request.form\n",
        "    if not data.get('email'):\n",
        "        return jsonify({\"error\": \"Email is required\"}), 400\n",
        "    return jsonify({\"success\": True})\n",
        "\n",
        "if __name__ == '__main__':\n",
        "    app.run(debug=True)\n"
      ],
      "metadata": {
        "id": "iYqrOuC6fsKO"
      },
      "execution_count": null,
      "outputs": []
    },
    {
      "cell_type": "code",
      "source": [
        "# Q8. How do you manage sessions in Flask?\n",
        "from flask import Flask, session, redirect, url_for\n",
        "app = Flask(__name__)\n",
        "app.secret_key = 'your_secret_key'\n",
        "\n",
        "@app.route('/login')\n",
        "def login():\n",
        "    session['user'] = 'username'\n",
        "    return redirect(url_for('profile'))\n",
        "\n",
        "@app.route('/profile')\n",
        "def profile():\n",
        "    if 'user' in session:\n",
        "        return f\"Welcome {session['user']}\"\n",
        "    return redirect(url_for('login'))\n",
        "\n",
        "if __name__ == '__main__':\n",
        "    app.run(debug=True)"
      ],
      "metadata": {
        "id": "mD3D6m5GfsHe"
      },
      "execution_count": null,
      "outputs": []
    },
    {
      "cell_type": "code",
      "source": [
        "# Q9. How do you redirect to a different route in Flask?\n",
        "from flask import Flask, redirect, url_for\n",
        "app = Flask(__name__)\n",
        "\n",
        "@app.route('/old')\n",
        "def old_route():\n",
        "    return redirect(url_for('new_route'))\n",
        "\n",
        "@app.route('/new')\n",
        "def new_route():\n",
        "    return \"This is the new route\"\n",
        "\n",
        "if __name__ == '__main__':\n",
        "    app.run(debug=True)"
      ],
      "metadata": {
        "id": "9kSuihiOfsE2"
      },
      "execution_count": null,
      "outputs": []
    },
    {
      "cell_type": "code",
      "source": [
        "# Q10. How do you handle errors in Flask (e.g., 404)?\n",
        "from flask import Flask, render_template\n",
        "app = Flask(__name__)\n",
        "\n",
        "@app.errorhandler(404)\n",
        "def page_not_found(e):\n",
        "    return render_template('404.html'), 404\n",
        "\n",
        "if __name__ == '__main__':\n",
        "    app.run(debug=True)"
      ],
      "metadata": {
        "id": "abwwAWhvfsCS"
      },
      "execution_count": null,
      "outputs": []
    },
    {
      "cell_type": "code",
      "source": [
        "# Q11. How do you structure a Flask app using Blueprints?\n",
        "from flask import Flask, Blueprint\n",
        "\n",
        "# Create blueprint\n",
        "auth_bp = Blueprint('auth', __name__)\n",
        "\n",
        "@auth_bp.route('/login')\n",
        "def login():\n",
        "    return \"Login page\"\n",
        "\n",
        "# Main app\n",
        "app = Flask(__name__)\n",
        "app.register_blueprint(auth_bp, url_prefix='/auth')\n",
        "\n",
        "if __name__ == '__main__':\n",
        "    app.run(debug=True)\n",
        "\n"
      ],
      "metadata": {
        "id": "Kz1PKOS1fr_p"
      },
      "execution_count": null,
      "outputs": []
    },
    {
      "cell_type": "code",
      "source": [
        "# Q12. How do you define a custom Jinja filter in Flask?\n",
        "from flask import Flask\n",
        "app = Flask(__name__)\n",
        "\n",
        "@app.template_filter('reverse')\n",
        "def reverse_filter(s):\n",
        "    return s[::-1]\n",
        "\n",
        "@app.route('/')\n",
        "def home():\n",
        "    return \"Check template for filter usage\"\n",
        "\n",
        "if __name__ == '__main__':\n",
        "    app.run(debug=True)\n"
      ],
      "metadata": {
        "id": "B3NqlFsEfr9C"
      },
      "execution_count": null,
      "outputs": []
    },
    {
      "cell_type": "code",
      "source": [
        "# Q13. How can you redirect with query parameters in Flask?\n",
        "from flask import Flask, redirect, url_for\n",
        "app = Flask(__name__)\n",
        "\n",
        "@app.route('/redirect')\n",
        "def redirect_example():\n",
        "    return redirect(url_for('target', param1='value1', param2='value2'))\n",
        "\n",
        "@app.route('/target')\n",
        "def target():\n",
        "    return \"Redirected with query parameters\"\n",
        "\n",
        "if __name__ == '__main__':\n",
        "    app.run(debug=True)"
      ],
      "metadata": {
        "id": "ghwqMOYXfr6Q"
      },
      "execution_count": null,
      "outputs": []
    },
    {
      "cell_type": "code",
      "source": [
        "# Q14. How do you return JSON responses in Flask?\n",
        "from flask import Flask, jsonify\n",
        "app = Flask(__name__)\n",
        "\n",
        "@app.route('/api/json')\n",
        "def return_json():\n",
        "    data = {\n",
        "        \"name\": \"John\",\n",
        "        \"age\": 30,\n",
        "        \"city\": \"New York\"\n",
        "    }\n",
        "    return jsonify(data)\n",
        "\n",
        "if __name__ == '__main__':\n",
        "    app.run(debug=True)\n"
      ],
      "metadata": {
        "id": "InnhJt4Mfr3g"
      },
      "execution_count": null,
      "outputs": []
    },
    {
      "cell_type": "code",
      "source": [
        "\n",
        "# Q15. How do you capture URL parameters in Flask?\n",
        "from flask import Flask, request\n",
        "app = Flask(__name__)\n",
        "\n",
        "@app.route('/user/<username>')\n",
        "def show_user(username):\n",
        "    return f\"User: {username}\"\n",
        "\n",
        "@app.route('/post/<int:post_id>')\n",
        "def show_post(post_id):\n",
        "    return f\"Post ID: {post_id}\"\n",
        "\n",
        "if __name__ == '__main__':\n",
        "    app.run(debug=True)"
      ],
      "metadata": {
        "id": "ATCBzcpkfr03"
      },
      "execution_count": null,
      "outputs": []
    }
  ]
}